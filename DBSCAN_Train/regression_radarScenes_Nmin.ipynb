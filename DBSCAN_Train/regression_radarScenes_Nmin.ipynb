{
 "cells": [
  {
   "cell_type": "code",
   "execution_count": 7,
   "metadata": {},
   "outputs": [],
   "source": [
    "import os\n",
    "import csv\n",
    "import numpy as np\n",
    "from sklearn import model_selection\n",
    "from sklearn import metrics\n",
    "# from sklearn.linear_model import LinearRegression\n",
    "from sklearn.neural_network import MLPRegressor\n",
    "import pickle\n",
    "import matplotlib.pyplot as plt"
   ]
  },
  {
   "cell_type": "code",
   "execution_count": 8,
   "metadata": {},
   "outputs": [
    {
     "name": "stdout",
     "output_type": "stream",
     "text": [
      "/home/user/deng/catkin_deng/src/track/DBSCAN_Train/radarScenes_v4_Nmin\n"
     ]
    }
   ],
   "source": [
    "code_path = os.getcwd()\n",
    "input_dir = os.path.join(code_path,'radarScenes_v4_Nmin')\n",
    "print(input_dir)"
   ]
  },
  {
   "cell_type": "code",
   "execution_count": 21,
   "metadata": {},
   "outputs": [],
   "source": [
    "def csv_read():\n",
    "  print(\"Reading directory:\",input_dir)\n",
    "  files = os.listdir(input_dir)\n",
    "  files.sort(key=lambda x:x[:11])\n",
    "  print('Training Sequence:',len(files))\n",
    "  Nmin = []\n",
    "  TrainX = []\n",
    "  for filename in files:\n",
    "    csv_path = os.path.join(input_dir,filename)\n",
    "    with open(csv_path,newline='') as csv_file:\n",
    "      rows = csv.reader(csv_file)\n",
    "      first = True\n",
    "      for row in rows:\n",
    "        if first:\n",
    "          first = False\n",
    "          continue\n",
    "        if str(row).find('nan') != -1 or str(row).find('inf') != -1:\n",
    "          continue\n",
    "        Nmin.append(int(row[3]))\n",
    "        input_row = []\n",
    "        input_row.append(float(row[4])/int(row[11])) # vel slot 0\n",
    "        input_row.append(float(row[5])/int(row[11])) # vel slot 1\n",
    "        input_row.append(float(row[6])/int(row[11])) # vel slot 2\n",
    "        input_row.append(float(row[7])/int(row[11])) # vel slot 3\n",
    "        input_row.append(float(row[8])/int(row[11])) # vel slot 4\n",
    "        input_row.append(float(row[9])/int(row[11])) # vel slot 5\n",
    "        input_row.append(int(row[11])) # current scan num\n",
    "\n",
    "        TrainX.append(input_row)\n",
    "  NminMatrix = np.asarray(Nmin)\n",
    "  NminMatrix.reshape(len(Nmin),1)\n",
    "  # Nmin_min = np.min(NminMatrix)\n",
    "  # Nmin_max = np.max(NminMatrix)\n",
    "  # NminMatrix = (NminMatrix-Nmin_min)/(Nmin_max-Nmin_min)\n",
    "  print('Target:',NminMatrix[0])\n",
    "  print('Input:',TrainX[0])\n",
    "  TrainMatrix = np.asarray(TrainX)\n",
    "  X_train, X_test, Y_train, Y_test = model_selection.train_test_split(np.array(TrainMatrix), np.array(NminMatrix), test_size=0.2)\n",
    "  print('Training Element: vel slot 0~5, current scan num; Training Target: Nmin in iou 0.3')\n",
    "  return X_train, X_test, Y_train, Y_test"
   ]
  },
  {
   "cell_type": "code",
   "execution_count": 22,
   "metadata": {},
   "outputs": [
    {
     "name": "stdout",
     "output_type": "stream",
     "text": [
      "Reading directory: /home/user/deng/catkin_deng/src/track/DBSCAN_Train/radarScenes_v4_Nmin\n",
      "Training Sequence: 126\n",
      "Target: 2\n",
      "Input: [0.9707792207792207, 0.02922077922077922, 0.0, 0.0, 0.0, 0.0, 308]\n",
      "Training Element: vel slot 0~5, current scan num; Training Target: Nmin in iou 0.3\n"
     ]
    }
   ],
   "source": [
    "X_train, X_test, Y_train, Y_test = csv_read()"
   ]
  },
  {
   "cell_type": "code",
   "execution_count": 11,
   "metadata": {},
   "outputs": [],
   "source": [
    "def save_model(model,name):\n",
    "    out_path = os.path.join(code_path,name+'.sav')\n",
    "    pickle.dump(model,open(out_path,'wb'))"
   ]
  },
  {
   "cell_type": "code",
   "execution_count": 12,
   "metadata": {},
   "outputs": [],
   "source": [
    "def evaluate_model(model,X_test,Y_test):\n",
    "    predict_y_test = model.predict(X_test)\n",
    "    print('Test r-score: ',metrics.r2_score(Y_test,predict_y_test))\n",
    "    print('Test mean: ',metrics.mean_squared_error(Y_test,predict_y_test))\n",
    "    print(Y_test)\n",
    "    print(predict_y_test)"
   ]
  },
  {
   "cell_type": "code",
   "execution_count": 13,
   "metadata": {},
   "outputs": [],
   "source": [
    "def load_model(name):\n",
    "    load_path = os.path.join(code_path,name+'.sav')\n",
    "    return pickle.load(open(load_path, 'rb'))"
   ]
  },
  {
   "cell_type": "code",
   "execution_count": 23,
   "metadata": {},
   "outputs": [],
   "source": [
    "training_model_name = 'Nmin_MLP_model_logistic_v2'"
   ]
  },
  {
   "cell_type": "code",
   "execution_count": 24,
   "metadata": {},
   "outputs": [
    {
     "name": "stdout",
     "output_type": "stream",
     "text": [
      "Training NetNmin_MLP_model_logistic_v2!\n"
     ]
    }
   ],
   "source": [
    "print('Training Net'+training_model_name+'!')\n",
    "model = MLPRegressor(hidden_layer_sizes=200, max_iter=300, activation='logistic')\n",
    "model.fit(X_train,Y_train)\n",
    "save_model(model, training_model_name)"
   ]
  },
  {
   "cell_type": "code",
   "execution_count": 25,
   "metadata": {},
   "outputs": [
    {
     "name": "stdout",
     "output_type": "stream",
     "text": [
      "{'activation': 'logistic', 'alpha': 0.0001, 'batch_size': 'auto', 'beta_1': 0.9, 'beta_2': 0.999, 'early_stopping': False, 'epsilon': 1e-08, 'hidden_layer_sizes': 200, 'learning_rate': 'constant', 'learning_rate_init': 0.001, 'max_iter': 300, 'momentum': 0.9, 'n_iter_no_change': 10, 'nesterovs_momentum': True, 'power_t': 0.5, 'random_state': None, 'shuffle': True, 'solver': 'adam', 'tol': 0.0001, 'validation_fraction': 0.1, 'verbose': False, 'warm_start': False}\n",
      "Test r-score:  0.16884936668216288\n",
      "Test mean:  3.3851617948244392\n",
      "[ 2  2  2 ... 10  4  3]\n",
      "[2.99927827 2.69331276 1.6487162  ... 4.8718645  4.56176007 5.24271691]\n"
     ]
    },
    {
     "data": {
      "text/plain": "[<matplotlib.lines.Line2D at 0x7fac74b1ce90>]"
     },
     "execution_count": 25,
     "metadata": {},
     "output_type": "execute_result"
    },
    {
     "data": {
      "image/png": "[encoded data removed]",
      "text/plain": "<Figure size 432x288 with 1 Axes>"
     },
     "metadata": {
      "needs_background": "light",
      "transient": {}
     },
     "output_type": "display_data"
    }
   ],
   "source": [
    "print(model.get_params())\n",
    "evaluate_model(model,X_test,Y_test)\n",
    "plt.plot(model.loss_curve_)"
   ]
  },
  {
   "cell_type": "code",
   "execution_count": 28,
   "metadata": {},
   "outputs": [
    {
     "name": "stdout",
     "output_type": "stream",
     "text": [
      "End training iter 0\n",
      "End training iter 1\n",
      "End training iter 2\n",
      "End training iter 3\n",
      "End training iter 4\n",
      "End training iter 5\n",
      "End training iter 6\n",
      "End training iter 7\n",
      "End training iter 8\n",
      "End training iter 9\n",
      "End training iter 10\n",
      "End training iter 11\n",
      "End training iter 12\n",
      "End training iter 13\n",
      "End training iter 14\n",
      "End training iter 15\n",
      "End training iter 16\n",
      "End training iter 17\n",
      "End training iter 18\n",
      "End training iter 19\n",
      "End training iter 20\n",
      "End training iter 21\n",
      "End training iter 22\n",
      "End training iter 23\n",
      "End training iter 24\n",
      "End training iter 25\n",
      "End training iter 26\n",
      "End training iter 27\n",
      "End training iter 28\n",
      "End training iter 29\n",
      "End training iter 30\n",
      "End training iter 31\n",
      "End training iter 32\n",
      "End training iter 33\n",
      "End training iter 34\n",
      "End training iter 35\n",
      "End training iter 36\n",
      "End training iter 37\n",
      "End training iter 38\n",
      "End training iter 39\n",
      "End training iter 40\n",
      "End training iter 41\n",
      "End training iter 42\n",
      "End training iter 43\n",
      "End training iter 44\n",
      "End training iter 45\n",
      "End training iter 46\n",
      "End training iter 47\n",
      "End training iter 48\n",
      "End training iter 49\n"
     ]
    }
   ],
   "source": [
    "for i in range(50):\n",
    "    model.partial_fit(X_train,Y_train)\n",
    "    print('End training iter',i)\n",
    "    save_model(model,training_model_name)"
   ]
  },
  {
   "cell_type": "code",
   "execution_count": 29,
   "metadata": {},
   "outputs": [
    {
     "name": "stdout",
     "output_type": "stream",
     "text": [
      "{'activation': 'logistic', 'alpha': 0.0001, 'batch_size': 'auto', 'beta_1': 0.9, 'beta_2': 0.999, 'early_stopping': False, 'epsilon': 1e-08, 'hidden_layer_sizes': 200, 'learning_rate': 'constant', 'learning_rate_init': 0.001, 'max_iter': 300, 'momentum': 0.9, 'n_iter_no_change': 10, 'nesterovs_momentum': True, 'power_t': 0.5, 'random_state': None, 'shuffle': True, 'solver': 'adam', 'tol': 0.0001, 'validation_fraction': 0.1, 'verbose': False, 'warm_start': False}\n",
      "Test r-score:  0.15313370016352856\n",
      "Test mean:  3.4491695351142053\n",
      "[ 2  2  2 ... 10  4  3]\n",
      "[2.64425012 2.57326129 1.54050294 ... 4.48377998 4.23683189 5.10668562]\n"
     ]
    },
    {
     "data": {
      "text/plain": "[<matplotlib.lines.Line2D at 0x7fac716cbad0>]"
     },
     "execution_count": 29,
     "metadata": {},
     "output_type": "execute_result"
    },
    {
     "data": {
      "image/png": "[encoded data removed]",
      "text/plain": "<Figure size 432x288 with 1 Axes>"
     },
     "metadata": {
      "needs_background": "light",
      "transient": {}
     },
     "output_type": "display_data"
    }
   ],
   "source": [
    "#v2 result\n",
    "print(model.get_params())\n",
    "evaluate_model(model,X_test,Y_test)\n",
    "plt.plot(model.loss_curve_)"
   ]
  },
  {
   "cell_type": "code",
   "execution_count": 20,
   "metadata": {},
   "outputs": [
    {
     "name": "stdout",
     "output_type": "stream",
     "text": [
      "{'activation': 'logistic', 'alpha': 0.0001, 'batch_size': 'auto', 'beta_1': 0.9, 'beta_2': 0.999, 'early_stopping': False, 'epsilon': 1e-08, 'hidden_layer_sizes': 200, 'learning_rate': 'constant', 'learning_rate_init': 0.001, 'max_iter': 300, 'momentum': 0.9, 'n_iter_no_change': 10, 'nesterovs_momentum': True, 'power_t': 0.5, 'random_state': None, 'shuffle': True, 'solver': 'adam', 'tol': 0.0001, 'validation_fraction': 0.1, 'verbose': False, 'warm_start': False}\n",
      "Test r-score:  0.1369326667846824\n",
      "Test mean:  3.5082262181754733\n",
      "[2 6 2 ... 2 2 2]\n",
      "[2.84016375 3.80515353 2.84016375 ... 2.84016375 2.84016375 2.84016375]\n"
     ]
    },
    {
     "data": {
      "text/plain": "[<matplotlib.lines.Line2D at 0x7fac749f9490>]"
     },
     "execution_count": 20,
     "metadata": {},
     "output_type": "execute_result"
    },
    {
     "data": {
      "image/png": "[encoded data removed]",
      "text/plain": "<Figure size 432x288 with 1 Axes>"
     },
     "metadata": {
      "needs_background": "light",
      "transient": {}
     },
     "output_type": "display_data"
    }
   ],
   "source": [
    "# v1 result\n",
    "print(model.get_params())\n",
    "evaluate_model(model,X_test,Y_test)\n",
    "plt.plot(model.loss_curve_)"
   ]
  },
  {
   "cell_type": "code",
   "execution_count": 38,
   "metadata": {},
   "outputs": [
    {
     "name": "stdout",
     "output_type": "stream",
     "text": [
      "(2,)\n",
      "array([-0.76456197, -0.76910707, -0.60640359,  0.2181038 ,  0.60559777,\n",
      "       -0.13083175, -0.25951904, -1.85104163, -0.83012058, -2.22527811,\n",
      "       -2.01647501, -0.49906892, -0.7936567 ,  1.21285886, -0.89838216,\n",
      "       -1.82953637, -0.62160227, -1.97381083,  0.48292831, -0.17686145,\n",
      "        1.32115119,  1.1257761 , -1.22445328, -0.77437319, -1.72092766,\n",
      "       -0.12052337,  0.30467247, -0.36834985, -1.90696882, -1.51786699,\n",
      "       -1.03144964,  0.17745702,  1.29362687,  0.72452269,  0.97522031,\n",
      "        1.19461594, -1.12220093, -0.99396187,  3.17965477, -0.79756656,\n",
      "       -0.81720437,  0.83820678, -0.12076942,  1.25255681, -1.95775582,\n",
      "       -0.90154319,  2.43688285, -1.95665228, -1.79248904,  1.04475554,\n",
      "       -1.9028403 ,  1.42295505,  1.39685864,  1.2797425 ,  0.93968937,\n",
      "       -2.09127623, -0.79552418, -0.93340533,  1.24481117,  0.38474847,\n",
      "        1.30211174, -0.22189331,  2.07313944,  0.1001179 ,  1.35348648,\n",
      "        0.79668357, -0.33688442, -0.89257791, -1.75569063, -0.7069886 ,\n",
      "        0.20102623,  1.1846277 ,  0.21549155,  0.66010595, -0.04483355,\n",
      "       -0.79533664,  0.94939128, -0.37549244, -5.33644222, -0.46178958,\n",
      "       -0.77971016,  2.6942964 ,  0.60424729,  0.39590805, -0.79203489,\n",
      "       -0.86497398, -0.7956284 , -0.5326639 , -2.10583069, -0.39856746,\n",
      "        0.85273075, -0.43132577, -1.87881836, -0.24778008,  1.51132455,\n",
      "        0.80619502,  0.78739807, -1.93018382,  1.07367376,  0.63423392,\n",
      "        1.06253885,  0.2017259 ,  1.01696645,  1.0739837 ,  2.11050972,\n",
      "        1.59592105, -0.47063181,  0.84412418,  0.0492431 ,  1.22883848,\n",
      "        1.71235227,  1.17129094, -1.10697174, -2.07792527,  1.16954979,\n",
      "       -0.83759718, -0.17455327,  1.95757092, -0.91033155,  0.90199497,\n",
      "        0.41580874,  2.0091556 , -0.96602363, -0.64434951,  0.69713678,\n",
      "       -2.00499345, -1.67225761, -1.87563305,  1.71550984,  1.3412246 ,\n",
      "       -2.00804658,  1.75605616, -1.9263253 , -0.7974811 , -0.44789619,\n",
      "       -0.62178653, -0.80120306,  1.77912668,  1.20496643,  0.48925124,\n",
      "       -1.8478343 , -1.98972122,  0.92653756, -0.35645312, -0.48441284,\n",
      "        4.01614407,  0.48169353, -0.06771337, -0.78755671, -0.64364803,\n",
      "       -1.84425337, -0.14163707,  1.75247629,  1.31781803,  2.52843978,\n",
      "        0.63656671,  1.19143751, -1.84549072,  3.84925997,  0.82062502,\n",
      "        0.27873719,  4.77776746,  0.4314487 , -1.47322182,  0.4202716 ,\n",
      "        0.44504282,  0.7055496 , -0.03140074, -2.02379337,  1.29549358,\n",
      "        0.65371949, -1.91961392,  0.62584333,  1.31409399, -0.42645997,\n",
      "       -0.05770518, -1.12346074,  0.60618049, -0.57704043,  0.24552337,\n",
      "        2.14827145, -5.79261087, -0.30118524,  1.39251074, -1.88891589,\n",
      "        4.19049392,  1.23388018, -0.84511468, -0.59502596,  1.30010283,\n",
      "       -0.78838229,  0.40605352,  1.69728968, -0.43380591, -0.89446036,\n",
      "        0.88283501,  0.34073774,  0.41874455,  0.66973982, -1.80065177])\n",
      "array([-0.04898933])\n"
     ]
    }
   ],
   "source": [
    "intercepts = np.array(model.intercepts_)\n",
    "print(intercepts.shape)\n",
    "print(repr(intercepts[0]))\n",
    "print(repr(intercepts[1]))"
   ]
  },
  {
   "cell_type": "code",
   "execution_count": 34,
   "metadata": {},
   "outputs": [
    {
     "name": "stdout",
     "output_type": "stream",
     "text": [
      "(7, 200)\n",
      "(200, 1)\n",
      "array([-0.02594449, -0.02592618,  0.07949869,  0.02852915,  0.07633746,\n",
      "       -0.04673546,  0.04031614, -0.0393478 , -0.02563667, -0.01563827,\n",
      "       -0.03591181, -0.02906958, -0.02583485, -0.10181086, -0.02502062,\n",
      "       -0.0389725 , -0.02725483, -0.03741561,  0.01850116, -0.04329384,\n",
      "       -0.07588854, -0.09361058, -0.02181382, -0.02607008, -0.01712632,\n",
      "        0.20120017, -0.06733901,  0.07076742, -0.03901434, -0.01897883,\n",
      "       -0.02368002,  0.25072083, -0.04867729,  0.04951603,  0.01290076,\n",
      "       -0.06870157, -0.02278616, -0.02401114, -1.14157214, -0.02581932,\n",
      "       -0.02572076,  0.02640372,  0.056107  , -0.07811507, -0.03787781,\n",
      "       -0.02498964, -0.19435857, -0.03790889, -0.03661257, -0.07258792,\n",
      "       -0.0390755 , -0.10024473, -0.04861789, -0.08560471, -0.07096686,\n",
      "       -0.03290077, -0.02582698, -0.02467419, -0.11038369,  0.24171485,\n",
      "       -0.10238235, -0.03870527, -0.04719133,  0.07613589, -0.08142146,\n",
      "       -0.06684843,  0.07630563, -0.02507728, -0.03059868, -0.02636641,\n",
      "       -0.06371998, -0.101401  ,  0.2696044 ,  0.04508951,  0.03632855,\n",
      "       -0.02594701, -0.0711928 ,  0.08668101,  0.43214238, -0.02968334,\n",
      "       -0.02590933, -1.01529097,  0.90570722, -0.05760175, -0.02584547,\n",
      "       -0.02533997, -0.0258254 ,  0.05323866, -0.03233212, -0.03095402,\n",
      "       -0.06924327,  0.08758406, -0.03932056,  0.19053386, -0.07883057,\n",
      "       -0.06683709, -0.06805329, -0.0385713 , -0.07318025, -0.06285659,\n",
      "       -0.09881224,  0.52933179,  0.01707726,  0.10987833, -0.11900022,\n",
      "        1.31662148,  0.06907332,  0.14033765, -0.04346024, -0.09163746,\n",
      "        1.26635362, -0.07473614, -0.02293663, -0.033503  , -0.06995575,\n",
      "       -0.02557897,  0.04117683, -0.11173234, -0.02490312,  0.02251131,\n",
      "        0.012657  , -0.04699715, -0.02434037, -0.02703159, -0.06571348,\n",
      "       -0.03633541, -0.01717808, -0.03933969, -0.09922819, -0.09172724,\n",
      "       -0.03622375, -0.10160072, -0.03865489, -0.02582476,  0.07878998,\n",
      "       -0.02725111, -0.02579981,  1.3970173 , -0.06402759,  0.06909082,\n",
      "       -0.03932121, -0.03688135, -0.07079841,  0.06098517, -0.02932245,\n",
      "       -0.02955779,  0.06901303, -0.04961378, -0.02586068, -0.02703819,\n",
      "       -0.03927876,  0.03745956, -0.04788355, -0.06733743, -0.04006314,\n",
      "       -0.06266725, -0.07504984, -0.03929535, -2.22187162, -0.06728757,\n",
      "        0.23108635,  0.66098786, -0.05889117, -0.01945202,  0.06498971,\n",
      "       -0.0605556 , -0.06596637,  0.02840174, -0.03563824, -0.08503627,\n",
      "        0.66533999, -0.0387919 , -0.06206961, -0.07691916, -0.03043231,\n",
      "       -0.04691916, -0.02277376,  0.09774571,  0.06933484, -0.06161537,\n",
      "       -0.12095198,  0.88922799,  0.04566624, -0.0789277 , -0.03923984,\n",
      "        0.00835648, -0.08583061, -0.02551688, -0.02756974, -0.06413433,\n",
      "       -0.02598794,  0.09665253, -0.09812504,  0.0608151 , -0.02505893,\n",
      "        0.00451447,  0.21442889,  0.08967385,  0.03638953, -0.03730598])\n",
      "array([-6.24035310e-03, -6.19035235e-03, -4.67253124e-03,  4.36972433e-03,\n",
      "        1.43519275e-03,  2.83087688e-04,  3.44684072e-04,  2.94729211e-03,\n",
      "       -5.36564910e-03, -5.58751007e-03,  2.52422078e-03, -6.24654814e-03,\n",
      "       -5.87973833e-03,  7.36694647e-04, -4.73854900e-03,  2.89607290e-03,\n",
      "       -6.56613854e-03,  2.74810103e-03,  6.62445992e-03, -8.12137831e-04,\n",
      "        2.83023233e-02,  7.36185900e-04, -3.23927136e-03, -5.76402993e-03,\n",
      "       -1.79732713e-03, -1.67580830e+00,  1.06243686e-02, -2.81677094e-03,\n",
      "        2.91598503e-03, -2.27572594e-03, -3.99028550e-03, -7.06169204e-03,\n",
      "        5.84713058e-04,  4.25616634e-03,  6.84185746e-04,  6.88297225e-04,\n",
      "       -3.60879927e-03, -3.98931475e-03,  3.80717031e+00, -5.82471960e-03,\n",
      "       -5.54792883e-03,  5.70459313e-03, -5.88336169e-04,  2.50455280e-02,\n",
      "        2.79918043e-03, -4.71869887e-03,  4.52933059e-02,  2.80256731e-03,\n",
      "        2.29842111e-03,  2.44157751e-02,  2.92208871e-03,  7.17958561e-04,\n",
      "        5.60124490e-04,  7.14520815e-04,  2.14738247e-02,  1.72659132e-03,\n",
      "       -5.85494750e-03, -4.51572346e-03,  7.37590900e-04, -5.41132168e-03,\n",
      "        7.33161708e-04, -2.48909702e-03,  3.89281371e-04, -9.92053097e-04,\n",
      "        6.92312207e-04,  4.00461113e-03, -3.03371400e-03, -4.78084608e-03,\n",
      "       -5.97711166e-04, -6.56666496e-03,  5.82122126e-03,  7.37014473e-04,\n",
      "       -7.41577784e-03,  4.37650540e-03,  1.93563456e-03, -5.49659855e-03,\n",
      "        2.17481713e-02, -3.88446012e-03, -5.50945041e+00, -6.06098608e-03,\n",
      "       -6.01750155e-03,  1.83278667e+00, -1.12918947e+00,  2.01355146e-03,\n",
      "       -5.89208242e-03, -5.01301552e-03, -5.85628688e-03, -2.23411925e-03,\n",
      "        1.56038058e-03, -5.61379078e-03,  4.52137165e-03, -4.23970976e-03,\n",
      "        2.94628500e-03, -1.81983452e+00,  6.51409381e-04,  4.03955483e-03,\n",
      "        4.12392183e-03,  2.87142801e-03,  2.51842392e-02,  2.96341226e-03,\n",
      "        7.32946551e-04, -1.40557959e+00,  5.35402226e-03,  1.95687710e-03,\n",
      "        2.34499566e-02, -2.37287977e-01, -3.20432820e-03, -4.10817504e-04,\n",
      "       -1.35976573e-03,  7.29418554e-04, -2.00270522e-01,  2.66823420e-02,\n",
      "       -3.67564064e-03,  1.92536233e-03,  6.96849748e-04, -5.27686283e-03,\n",
      "        6.54397476e-04,  2.01066550e-02, -4.66012652e-03,  5.92810099e-03,\n",
      "        5.90533054e-03,  4.04253103e-04, -4.30159883e-03, -6.45993704e-03,\n",
      "        3.58974065e-03,  2.59792442e-03, -1.71759900e-03,  2.94813244e-03,\n",
      "        1.54051245e-02,  1.03912951e-02,  2.57940195e-03,  1.61370474e-02,\n",
      "        2.87987267e-03, -5.81315243e-03, -3.76276530e-03, -6.56440092e-03,\n",
      "       -5.78373211e-03, -1.18740952e-01,  6.70691890e-04,  1.35511839e-03,\n",
      "        2.94396212e-03,  2.68006487e-03,  2.11322742e-02, -2.04597015e-03,\n",
      "       -6.17241400e-03,  3.10429705e+00,  1.32259818e-03,  1.07993073e-03,\n",
      "       -5.95670999e-03, -6.46187203e-03,  2.93861262e-03,  1.29174118e-03,\n",
      "        4.70963059e-04,  6.57736273e-04,  2.41852271e-04,  2.93804241e-03,\n",
      "        2.68506627e-02,  2.94071102e-03,  4.80889358e+00,  4.15046081e-03,\n",
      "       -5.79869840e-03,  5.08041460e+00,  2.30363635e-03, -2.43477510e-03,\n",
      "        1.31839062e-03,  2.80264848e-03,  3.64221736e-03,  3.23924205e-03,\n",
      "        2.47168994e-03,  7.10974789e-04, -1.13019116e+00,  2.89367624e-03,\n",
      "        2.82575979e-03,  2.63481451e-02, -5.79530042e-03,  1.81864347e-04,\n",
      "       -3.60339311e-03,  1.95641318e-04, -3.76929438e-03,  4.11855271e-03,\n",
      "        2.43523445e-02, -5.72439156e+00, -4.55511657e-04,  2.31951065e-02,\n",
      "        2.93838469e-03,  4.60940521e+00,  7.21260956e-04, -5.19542213e-03,\n",
      "       -6.55183710e-03,  6.50259424e-04, -5.59668038e-03, -6.99073861e-04,\n",
      "        1.50997579e-02, -2.39866420e-03, -4.76560209e-03,  2.84872315e-04,\n",
      "       -4.95033165e-03, -2.86161775e-04,  5.14065842e-03,  2.52449131e-03])\n",
      "array([-1.98150067e-03, -1.91466420e-03,  1.87999605e-02,  5.59718163e-03,\n",
      "        9.34360091e-03, -6.61294656e-03,  1.09148273e-02, -2.53221805e-03,\n",
      "       -1.18174375e-03, -8.65123020e-04, -1.84451519e-03, -4.30006401e-03,\n",
      "       -1.57491904e-03, -3.32931915e-05, -8.58482353e-04, -2.35571553e-03,\n",
      "       -3.08683021e-03, -2.19261093e-03,  6.68121455e+00, -6.62099155e-03,\n",
      "       -1.22358761e-02, -3.32860604e-05, -4.19301862e-04, -1.49728611e-03,\n",
      "       -1.86875860e-04,  4.82094693e+01, -7.36496444e-03,  1.60552210e-02,\n",
      "       -2.57067141e-03, -2.52114501e-04, -6.01087463e-04,  2.14256212e-02,\n",
      "       -3.41337345e-05,  5.84250652e-03,  1.39843154e-03, -3.45449056e-05,\n",
      "       -5.01664047e-04, -6.08207510e-04,  5.61911137e-01, -1.52471474e-03,\n",
      "       -1.30354600e-03,  2.43253894e-03,  1.22808847e-02, -1.13974448e-02,\n",
      "       -2.30115237e-03, -8.50072395e-04, -3.21516869e-02, -2.30897146e-03,\n",
      "       -1.75161858e-03, -1.02096181e-02, -2.58136058e-03, -3.43243130e-05,\n",
      "       -3.39238753e-05, -3.43784998e-05, -9.47062209e-03, -1.31751849e-03,\n",
      "       -1.55190389e-03, -7.70389975e-04, -3.29279496e-05,  1.96886348e-02,\n",
      "       -3.37945758e-05, -7.09327527e-03, -3.16570360e-05,  1.28886612e-02,\n",
      "       -3.45187308e-05, -1.82933165e-02,  1.64009006e-02, -8.76463760e-04,\n",
      "       -1.15217121e-03, -2.68392947e-03, -8.01714630e-03, -3.31244529e-05,\n",
      "        2.13766410e-02,  5.66365330e-03,  8.75400072e-03, -1.28530619e-03,\n",
      "       -9.53698580e-03,  1.76981171e-02, -4.67307642e+00, -4.61677326e-03,\n",
      "       -1.71665963e-03, -1.05696632e-01,  6.20381157e+01, -1.22481808e-02,\n",
      "       -1.58727722e-03, -9.83554978e-04, -1.55293152e-03,  1.51082872e-02,\n",
      "       -1.25162534e-03, -5.22045050e-03, -1.89551367e-02,  1.82068532e-02,\n",
      "       -2.60109615e-03,  4.36555973e+01, -3.44274812e-05, -1.84389385e-02,\n",
      "       -1.80146558e-02, -2.47269183e-03, -1.04501989e-02, -1.60929734e-02,\n",
      "       -3.22702188e-05,  5.79651998e+01,  1.29568624e-03,  8.66512127e-03,\n",
      "       -2.95170213e-02,  3.97836680e+00,  1.66744463e-02,  1.18466959e-02,\n",
      "       -9.65746972e-03, -3.39897079e-05,  3.59717963e+00, -1.11720234e-02,\n",
      "       -5.17662715e-04, -1.40601955e-03, -3.45263884e-05, -1.12750235e-03,\n",
      "        1.04661007e-02, -2.85938348e-02, -8.26093271e-04,  2.29383876e-03,\n",
      "        2.23375898e-03, -3.19370070e-05, -6.96897140e-04, -2.60909105e-03,\n",
      "       -1.65658362e-02, -1.93768438e-03, -1.77924997e-04, -2.59878448e-03,\n",
      "       -2.61987958e-02, -2.42440827e-02, -1.91270386e-03, -2.67544537e-02,\n",
      "       -2.49258181e-03, -1.51531168e-03,  1.75212628e-02, -3.07256879e-03,\n",
      "       -1.48812074e-03,  3.30865960e+00, -3.45378877e-05,  9.45579240e-03,\n",
      "       -2.51428345e-03, -2.06430171e-03, -9.38974146e-03,  1.47747915e-02,\n",
      "       -4.43302415e-03, -1.50163350e-02,  9.49819043e-03, -6.92039602e-03,\n",
      "       -1.64996335e-03, -2.61591653e-03, -2.49019431e-03,  9.59755195e-03,\n",
      "       -3.29245392e-05, -3.44865673e-05, -2.85571862e-05, -1.61746406e-02,\n",
      "       -1.13016894e-02, -2.49913508e-03,  1.72203324e+00, -1.86248311e-02,\n",
      "        2.01274039e-02, -5.70368094e+00, -1.25317770e-02, -2.75736384e-04,\n",
      "        9.50924251e-03, -1.20896551e-02, -1.66946419e-02,  7.09584248e-03,\n",
      "       -1.78693491e-03, -3.44210712e-05,  6.04686776e+01, -2.52429552e-03,\n",
      "       -1.60765656e-02, -1.17692046e-02, -4.98455490e-03, -7.30157781e-03,\n",
      "       -5.00387434e-04,  1.09940041e-02,  1.75325900e-02, -8.84372232e-03,\n",
      "       -2.97166062e-02, -8.79694413e+00,  1.21107840e-02, -1.16781331e-02,\n",
      "       -2.60118249e-03, -1.13324026e+00, -3.42566726e-05, -1.08047667e-03,\n",
      "       -3.21206851e-03, -3.44656590e-05, -1.35866404e-03,  1.23537689e-02,\n",
      "       -2.58998457e-02,  1.53743512e-02, -8.69996633e-04,  8.61433676e-04,\n",
      "        1.91307717e-02,  1.17180152e-02,  4.38428860e-03, -1.89033034e-03])\n",
      "array([-1.84213215e-03, -1.79430798e-03,  1.24810708e-02,  4.69936397e-03,\n",
      "        7.29796904e-03, -5.44953994e-03,  8.28937961e-03, -2.78578997e-03,\n",
      "       -1.26651277e-03, -8.90812227e-04, -2.16367818e-03, -3.54837626e-03,\n",
      "       -1.55146542e-03, -4.27594544e-05, -1.01068484e-03, -2.62620011e-03,\n",
      "       -2.65229557e-03, -2.49062265e-03,  1.74081397e-03, -5.40934672e-03,\n",
      "       -1.27953978e-02, -4.27713669e-05, -5.64366725e-04, -1.50224828e-03,\n",
      "       -2.65713015e-04,  1.34608677e+01, -4.37451149e-03,  1.12034176e-02,\n",
      "       -2.83026170e-03, -3.53986526e-04, -7.67812127e-04,  1.34226954e-02,\n",
      "       -4.68935529e-05,  4.88029543e-03,  1.68756869e-03, -4.52210912e-05,\n",
      "       -6.60022364e-04, -7.79522912e-04, -4.41033127e+00, -1.51551911e-03,\n",
      "       -1.35594164e-03,  2.31859736e-03,  9.11453540e-03, -9.64930046e-03,\n",
      "       -2.58983284e-03, -1.00338332e-03, -1.26780433e-02, -2.59695529e-03,\n",
      "       -2.07946682e-03, -8.58767143e-03, -2.83923852e-03, -4.42908106e-05,\n",
      "       -4.70484719e-05, -4.44439535e-05, -7.14544911e-03, -1.63770343e-03,\n",
      "       -1.53497073e-03, -9.32591343e-04, -4.23072163e-05,  1.28189241e-02,\n",
      "       -4.33977590e-05, -5.64321768e-03, -4.60253474e-05,  9.46740347e-03,\n",
      "       -4.50733869e-05, -1.21079884e-02,  1.13766053e-02, -1.02602071e-03,\n",
      "       -1.46796216e-03, -2.35061647e-03, -5.55530908e-03, -4.25579468e-05,\n",
      "        1.32628944e-02,  4.75008376e-03,  6.90308983e-03, -1.34866731e-03,\n",
      "       -7.26025775e-03,  1.19952844e-02,  3.74132253e+00, -3.78380321e-03,\n",
      "       -1.65359357e-03,  1.82567497e-03,  1.39218393e+01, -8.73741467e-03,\n",
      "       -1.56047277e-03, -1.11388644e-03, -1.53566100e-03,  1.07121974e-02,\n",
      "       -1.56839621e-03, -4.23224627e-03, -1.23834863e-02,  1.22237505e-02,\n",
      "       -2.85252850e-03,  1.44069049e+01, -4.58402316e-05, -1.21941111e-02,\n",
      "       -1.18802950e-02, -2.74445001e-03, -9.10283499e-03, -1.09540916e-02,\n",
      "       -4.16247705e-05,  1.45760711e+01,  1.37537662e-03,  6.85365536e-03,\n",
      "       -1.44927985e-02,  1.61442069e+01,  1.15128777e-02,  8.85305103e-03,\n",
      "       -7.33433641e-03, -4.37041080e-05,  1.63247691e+01, -1.05485770e-02,\n",
      "       -6.77783593e-04, -1.72940246e-03, -4.50141943e-05, -1.22581457e-03,\n",
      "        8.01013866e-03, -1.45347184e-02, -9.82480887e-04,  2.19591716e-03,\n",
      "        2.14310079e-03, -4.62916296e-05, -8.64332574e-04, -2.30832324e-03,\n",
      "       -1.10873831e-02, -2.25246035e-03, -2.54581864e-04, -2.84982821e-03,\n",
      "       -1.39748121e-02, -1.40554849e-02, -2.22875595e-03, -1.41738882e-02,\n",
      "       -2.76210974e-03, -1.50898695e-03,  1.19149928e-02, -2.64201929e-03,\n",
      "       -1.48910410e-03,  1.69742257e+01, -4.56055066e-05,  7.37016540e-03,\n",
      "       -2.76929687e-03, -2.37158053e-03, -7.00073155e-03,  1.05310815e-02,\n",
      "       -3.64724152e-03, -9.79047600e-03,  7.39760120e-03, -5.64730110e-03,\n",
      "       -1.60523284e-03, -2.31327476e-03, -2.74731737e-03,  7.45615341e-03,\n",
      "       -4.69770115e-05, -4.58093170e-05, -4.25784198e-05, -1.10151435e-02,\n",
      "       -1.07600455e-02, -2.75545445e-03, -1.44446959e+01, -1.22828529e-02,\n",
      "        1.29803302e-02,  5.18830486e+00, -8.86631381e-03, -3.84831884e-04,\n",
      "        7.40435933e-03, -8.52864196e-03, -1.11559224e-02,  5.76852070e-03,\n",
      "       -2.10828068e-03, -4.45650736e-05,  1.32470392e+01, -2.79008918e-03,\n",
      "       -1.09811673e-02, -1.05783990e-02, -4.05753446e-03, -5.86619264e-03,\n",
      "       -6.58594476e-04,  8.34014660e-03,  1.19215822e-02, -6.40672448e-03,\n",
      "       -1.44584929e-02, -1.14293530e+00,  9.01448503e-03, -8.61888831e-03,\n",
      "       -2.85457555e-03, -2.53274008e+00, -4.41722273e-05, -1.18997108e-03,\n",
      "       -2.74587810e-03, -4.59524714e-05, -1.40195075e-03,  9.15384972e-03,\n",
      "       -1.38490804e-02,  1.08521643e-02, -1.02056020e-03,  1.08861094e-03,\n",
      "        1.26024399e-02,  8.77819253e-03,  3.80848760e-03, -2.20774091e-03])\n",
      "array([ 1.34208588e-05,  1.34132439e-05, -1.32748743e-05, -1.21531994e-05,\n",
      "       -1.33359524e-05,  6.42518311e-05, -1.15701372e-05,  9.02687299e-05,\n",
      "        1.10186608e-05,  7.13394974e-06,  6.04722063e-05,  6.29186957e-06,\n",
      "        1.28990607e-05,  9.85226681e-08,  8.11060566e-06,  7.74073367e-05,\n",
      "        1.21147380e-05,  7.84335861e-05, -8.23989100e-05,  5.27537700e-05,\n",
      "        1.50321188e-03,  9.83172131e-08,  3.10222032e-06,  1.27891049e-05,\n",
      "        9.63346699e-07,  5.70189254e+00,  2.09125306e-04, -1.18068109e-05,\n",
      "        9.81147887e-05,  1.44905342e-06,  5.14056171e-06, -1.55445484e-05,\n",
      "        1.46976437e-07, -1.20302814e-05, -2.38139050e-05,  1.22609780e-07,\n",
      "        3.99560796e-06,  5.10443902e-06,  5.61536525e-02,  1.27460347e-05,\n",
      "        1.17800342e-05, -1.51171266e-05, -1.47621312e-05,  1.08927240e-03,\n",
      "        8.41649111e-05,  8.02018542e-06, -6.13488751e-04,  8.45900929e-05,\n",
      "        4.43764095e-05,  9.18606469e-04,  9.84775376e-05,  1.13907807e-07,\n",
      "        1.53078359e-07,  1.14825202e-07,  7.08912431e-04,  3.68164473e-05,\n",
      "        1.28311229e-05,  7.13093289e-06,  9.49121022e-08, -1.90284948e-05,\n",
      "        1.04520247e-07,  2.98329236e-05,  1.99225089e-07, -1.71448678e-05,\n",
      "        1.22018077e-07,  4.64367079e-05, -1.23091079e-05,  8.30343058e-06,\n",
      "        1.99961910e-05,  1.23024006e-05,  1.25688021e-04,  9.67515687e-08,\n",
      "       -3.45533828e-05, -1.22943253e-05, -1.01115256e-05,  1.17386106e-05,\n",
      "        7.26154473e-04, -1.35654850e-05, -9.77125687e+00,  4.55221766e-06,\n",
      "        1.32455760e-05,  4.56100459e-02,  7.78065584e+00,  8.64720815e-05,\n",
      "        1.29378836e-05,  9.38360093e-06,  1.28330742e-05, -1.00076765e-05,\n",
      "        3.43091416e-05,  9.09056745e-07,  4.98521632e-05, -1.38335166e-05,\n",
      "        9.75492460e-05,  5.28712968e+00,  1.32308063e-07,  4.25837993e-05,\n",
      "        6.35570494e-05,  9.33920654e-05,  9.91340141e-04,  6.19756788e-05,\n",
      "        8.92639548e-08,  7.04076363e+00, -1.14785416e-05, -1.31669057e-05,\n",
      "       -4.77626596e-04, -5.98491304e+00, -1.15755777e-05, -2.03152587e-05,\n",
      "        2.48168911e-05,  1.07130121e-07, -5.98245616e+00,  1.19380797e-03,\n",
      "        4.18136715e-06,  4.05348434e-05,  1.20202014e-07,  1.06198457e-05,\n",
      "       -1.15347432e-05, -3.08909159e-04,  7.75759036e-06, -1.31099861e-05,\n",
      "       -1.24630263e-05,  1.95272194e-07,  6.26259983e-06,  1.38367833e-05,\n",
      "        7.95287421e-05,  6.51064217e-05,  7.46403998e-07,  9.70803332e-05,\n",
      "       -3.09568846e-05,  2.06595612e-05,  6.38505758e-05, -8.22737594e-05,\n",
      "        9.44258756e-05,  1.27196581e-05, -1.28601321e-05,  1.21929621e-05,\n",
      "        1.26162578e-05, -6.22339569e+00,  1.26995154e-07, -1.31606896e-05,\n",
      "        8.88044274e-05,  7.16239291e-05,  6.87258168e-04, -1.18188866e-05,\n",
      "        5.53063998e-06,  2.61574716e-03, -1.32170096e-05,  7.33864557e-05,\n",
      "        1.30908643e-05,  1.38264704e-05,  8.69292033e-05, -1.05400238e-05,\n",
      "        1.76311295e-07,  1.30366145e-07,  2.45107109e-07,  5.84483443e-05,\n",
      "        1.22397116e-03,  8.76137266e-05,  1.41517895e-01,  4.15854157e-05,\n",
      "       -1.90581458e-05,  1.04709598e+00,  9.24920654e-05,  1.68162875e-06,\n",
      "       -1.30082663e-05,  1.08525092e-04,  7.87345159e-05, -1.00267084e-05,\n",
      "        5.76806918e-05,  1.16183005e-07,  7.60063183e+00,  9.60297100e-05,\n",
      "        5.53885006e-05,  1.21642741e-03,  2.17121972e-06,  6.47033047e-05,\n",
      "        3.98088903e-06, -1.72130490e-05, -1.20037163e-05,  1.17572054e-04,\n",
      "       -5.20166987e-04, -1.60705624e+01, -1.28217678e-05,  9.62360349e-04,\n",
      "        9.85346220e-05,  3.05370060e-01,  1.11788260e-07,  1.02440576e-05,\n",
      "        1.20548870e-05,  1.32030546e-07,  1.21520903e-05, -1.89941998e-05,\n",
      "       -5.18652556e-06, -1.09900171e-05,  8.23406246e-06, -2.28389456e-05,\n",
      "       -1.84273102e-05, -1.79276732e-05, -1.44980970e-05,  5.10260433e-05])\n",
      "array([-3.59358436e-04, -3.49992433e-04,  4.96120091e-03,  9.57283972e-04,\n",
      "        1.69768299e-03, -1.36927534e-03,  2.05812498e-03, -6.63748059e-04,\n",
      "       -2.46269740e-04, -1.61568623e-04, -4.66766923e-04, -6.95603528e-04,\n",
      "       -3.02311822e-04, -1.12874500e-05, -1.96007496e-04, -6.13440358e-04,\n",
      "       -5.19723532e-04, -5.60564033e-04,  3.15724478e-04, -1.27541153e-03,\n",
      "       -1.04878155e-02, -1.12850411e-05, -1.08492108e-04, -2.93024092e-04,\n",
      "       -5.02546678e-05, -3.16141707e+00, -4.61817460e-03,  3.66317100e-03,\n",
      "       -6.71932754e-04, -6.74378486e-05, -1.48388023e-04,  6.79749240e-03,\n",
      "       -1.15176742e-05,  1.00057918e-03,  3.32996200e-04, -1.16895364e-05,\n",
      "       -1.27249424e-04, -1.50913010e-04, -7.23942820e-02, -2.95242745e-04,\n",
      "       -2.63847763e-04,  4.44534806e-04,  2.42990930e-03, -1.02230349e-02,\n",
      "       -5.91360886e-04, -1.94571518e-04, -2.64595772e-02, -5.93602973e-04,\n",
      "       -4.50834849e-04, -9.21912986e-03, -6.75376369e-04, -1.16244482e-05,\n",
      "       -1.14376155e-05, -1.16416168e-05, -8.61361953e-03, -3.33359054e-04,\n",
      "       -2.99066823e-04, -1.80677150e-04, -1.11662912e-05,  5.54117726e-03,\n",
      "       -1.14529256e-05, -1.24986410e-03, -1.05936030e-05,  2.61444813e-03,\n",
      "       -1.16818015e-05, -4.78309434e-03,  3.80620796e-03, -1.99017145e-04,\n",
      "       -2.92007412e-04, -4.58674272e-04, -2.82952912e-03, -1.12315009e-05,\n",
      "        6.96922265e-03,  9.69553706e-04,  1.55859420e-03, -2.62731821e-04,\n",
      "       -8.67490942e-03,  4.39290782e-03, -3.57474761e-01, -7.42595109e-04,\n",
      "       -3.22445152e-04, -4.46152400e-02, -3.03477485e+00, -2.75240771e-03,\n",
      "       -3.04093953e-04, -2.16259610e-04, -2.99199634e-04,  3.29545256e-03,\n",
      "       -3.16928099e-04, -8.33022818e-04, -5.17368640e-03,  4.64816601e-03,\n",
      "       -6.82758895e-04, -3.64365669e+00, -1.16388839e-05, -4.82811920e-03,\n",
      "       -4.78448553e-03, -6.41720849e-04, -9.38713456e-03, -3.88897603e-03,\n",
      "       -1.09470216e-05, -2.75364871e+00,  2.57413926e-04,  1.55062424e-03,\n",
      "       -1.90266991e-02,  5.24388352e+00,  3.91596922e-03,  2.33608477e-03,\n",
      "       -1.75536402e-03, -1.15167628e-05,  5.26092362e+00, -9.86625173e-03,\n",
      "       -1.30723668e-04, -3.55282351e-04, -1.16858732e-05, -2.38267525e-04,\n",
      "        1.94879917e-03, -1.69614683e-02, -1.90467771e-04,  4.13957378e-04,\n",
      "        4.01764509e-04, -1.06952731e-05, -1.67327157e-04, -4.52947731e-04,\n",
      "       -4.22967851e-03, -4.91289869e-04, -4.81467856e-05, -6.82252562e-04,\n",
      "       -1.35383298e-02, -9.78160439e-03, -4.84677961e-04, -1.41481141e-02,\n",
      "       -6.47738980e-04, -2.93970856e-04,  4.30359228e-03, -5.17765182e-04,\n",
      "       -2.90036410e-04,  5.77839877e+00, -1.16819969e-05,  1.72192344e-03,\n",
      "       -6.58607067e-04, -5.25253340e-04, -8.53722766e-03,  3.18819219e-03,\n",
      "       -7.15185185e-04, -2.48320577e-02,  1.73158672e-03, -1.51700781e-03,\n",
      "       -3.12889275e-04, -4.53928254e-04, -6.51692703e-04,  1.74382821e-03,\n",
      "       -1.10620928e-05, -1.16607801e-05, -9.46329442e-06, -3.89638334e-03,\n",
      "       -9.95512457e-03, -6.54259780e-04,  9.75833811e-01, -4.91924520e-03,\n",
      "        5.83263039e-03,  1.26653537e+00, -2.88261655e-03, -7.34268006e-05,\n",
      "        1.73328189e-03, -2.91111159e-03, -4.28036597e-03,  1.22545570e-03,\n",
      "       -4.51785156e-04, -1.16547371e-05, -2.89234261e+00, -6.57433011e-04,\n",
      "       -3.83405623e-03, -1.04268510e-02, -7.97058221e-04, -1.48157378e-03,\n",
      "       -1.26970055e-04,  2.10111162e-03,  4.30281317e-03, -2.53949721e-03,\n",
      "       -1.95418835e-02, -4.51855937e+00,  2.37428880e-03, -1.06855796e-02,\n",
      "       -6.82174384e-04, -1.43850741e-02, -1.16031141e-05, -2.31220368e-04,\n",
      "       -5.38881851e-04, -1.16514766e-05, -2.73226621e-04,  2.46964541e-03,\n",
      "       -1.32544081e-02,  3.39785837e-03, -1.97947128e-04,  2.06858949e-04,\n",
      "        5.19333890e-03,  2.29113830e-03,  7.56200740e-04, -4.87026796e-04])\n",
      "array([-1.61043391e-04, -1.54880142e-04,  2.64165674e-03,  4.61667800e-04,\n",
      "        8.49000995e-04, -5.73038640e-04,  1.03998634e-03, -1.95136236e-04,\n",
      "       -8.57035028e-05, -7.17427486e-05, -1.29827607e-04, -3.63307168e-04,\n",
      "       -1.23157372e-04,  4.24189609e-07, -5.54929086e-05, -1.72452466e-04,\n",
      "       -2.58874573e-04, -1.64358246e-04,  1.13244400e-04, -5.82667228e-04,\n",
      "       -3.28545419e-03,  4.24485218e-07, -2.08653290e-05, -1.15146228e-04,\n",
      "       -7.55329459e-06,  1.22280257e+00, -1.21362065e-03,  1.91599218e-03,\n",
      "       -2.05068595e-04, -1.07878109e-05, -3.38008628e-05,  3.68673286e-03,\n",
      "        3.96853528e-07,  4.84974655e-04,  9.23900514e-05,  4.19539188e-07,\n",
      "       -2.64453958e-05, -3.37695130e-05, -7.15056681e-02, -1.18411804e-04,\n",
      "       -9.73656245e-05,  1.89579731e-04,  1.23755301e-03, -2.98362160e-03,\n",
      "       -1.75777508e-04, -5.47456352e-05, -1.41397641e-02, -1.76621880e-04,\n",
      "       -1.11497194e-04, -2.66784451e-03, -2.06085164e-04,  4.23086152e-07,\n",
      "        3.88847149e-07,  4.23383605e-07, -2.41761152e-03, -8.49984406e-05,\n",
      "       -1.20985950e-04, -4.77425895e-05,  4.22447877e-07,  2.96910424e-03,\n",
      "        4.25115802e-07, -6.37464827e-04,  3.10516769e-07,  1.33611745e-03,\n",
      "        4.18996956e-07, -2.61966539e-03,  1.99537670e-03, -5.71150541e-05,\n",
      "       -6.94790513e-05, -2.24271117e-04, -7.91879232e-04,  4.23586538e-07,\n",
      "        3.75005505e-03,  4.68477265e-04,  7.77057556e-04, -9.49892507e-05,\n",
      "       -2.44054291e-03,  2.32251089e-03,  7.10485819e+00, -3.90193511e-04,\n",
      "       -1.36390223e-04, -8.36950954e-02,  8.24009487e+00, -1.36297499e-03,\n",
      "       -1.24305965e-04, -6.69863873e-05, -1.21087819e-04,  1.71272443e-03,\n",
      "       -8.00962874e-05, -4.41479962e-04, -2.83911294e-03,  2.46560772e-03,\n",
      "       -2.06426813e-04, -3.41509459e-01,  4.09727826e-07, -2.65146993e-03,\n",
      "       -2.59072985e-03, -1.94544168e-04, -2.74620855e-03, -2.07995497e-03,\n",
      "        4.19018622e-07,  5.11039113e+00,  9.67705066e-05,  7.72072141e-04,\n",
      "       -1.11338537e-02,  8.69144177e+00,  2.05647033e-03,  1.18381691e-03,\n",
      "       -9.27447233e-04,  4.25446724e-07,  8.78361353e+00, -2.96787767e-03,\n",
      "       -2.76072146e-05, -9.19749949e-05,  4.21242205e-07, -8.05344915e-05,\n",
      "        9.82013224e-04, -9.86598202e-03, -5.26130002e-05,  1.80063960e-04,\n",
      "        1.75302637e-04,  3.18666145e-07, -4.14307168e-05, -2.16264578e-04,\n",
      "       -2.23934950e-03, -1.38671202e-04, -6.78855746e-06, -2.05828341e-04,\n",
      "       -7.53410747e-03, -5.50761063e-03, -1.36271502e-04, -7.97993312e-03,\n",
      "       -1.96732770e-04, -1.17499832e-04,  2.27253207e-03, -2.57606929e-04,\n",
      "       -1.14962278e-04,  9.62929556e+00,  4.16271453e-07,  8.61801486e-04,\n",
      "       -1.92637834e-04, -1.51165378e-04, -2.38890939e-03,  1.65305520e-03,\n",
      "       -3.74592459e-04, -5.05142835e-03,  8.66853851e-04, -6.00828522e-04,\n",
      "       -1.30212358e-04, -2.16871679e-04, -1.89385835e-04,  8.74142357e-04,\n",
      "        3.52922549e-07,  4.12719744e-07,  2.22662224e-07, -2.09056828e-03,\n",
      "       -3.00470602e-03, -1.90579709e-04, -7.75548937e+00, -2.70550121e-03,\n",
      "        3.13403072e-03,  6.04633078e+00, -1.41966645e-03, -1.21455514e-05,\n",
      "        8.67830068e-04, -1.36540411e-03, -2.27023605e-03,  6.02721392e-04,\n",
      "       -1.24509844e-04,  4.22704936e-07,  7.63883247e+00, -2.00200588e-04,\n",
      "       -2.06016734e-03, -3.10183139e-03, -4.21339198e-04, -6.56232525e-04,\n",
      "       -2.63535889e-05,  1.06017593e-03,  2.27197751e-03, -8.51255849e-04,\n",
      "       -1.14364112e-02,  8.44839103e+00,  1.20849733e-03, -3.01893667e-03,\n",
      "       -2.07384064e-04,  3.08999575e-02,  4.24652948e-07, -7.60735892e-05,\n",
      "       -2.69600581e-04,  4.11410230e-07, -1.02003920e-04,  1.25657917e-03,\n",
      "       -7.31503398e-03,  1.76911602e-03, -5.65264633e-05,  6.09720388e-05,\n",
      "        2.77255291e-03,  1.16123650e-03,  3.54765550e-04, -1.23818550e-04])\n",
      "array([-0.06401615, -0.06403412,  0.06354125,  0.06130508,  0.06183986,\n",
      "       -0.06104618,  0.06227926, -0.03905812, -0.06383503, -0.05489829,\n",
      "       -0.04010482, -0.06381232, -0.06406331,  0.08151554, -0.06309703,\n",
      "       -0.04001211, -0.06401049, -0.03903099,  0.05885805, -0.06191449,\n",
      "       -0.04305936,  0.0815369 , -0.06030259, -0.06417643, -0.0575663 ,\n",
      "        0.00214655, -0.04643969,  0.06319384, -0.03827157, -0.05851147,\n",
      "       -0.06179811,  0.06370892,  0.07436771,  0.06131041,  0.04819374,\n",
      "        0.07808238, -0.061051  , -0.06195992, -0.06991081, -0.06405509,\n",
      "       -0.0639527 ,  0.06017063,  0.06250174, -0.04396011, -0.03876561,\n",
      "       -0.06306531, -0.06525497, -0.03874612, -0.04325907, -0.04283538,\n",
      "       -0.03827725,  0.07941626,  0.07352759,  0.0792701 , -0.04305868,\n",
      "       -0.04216754, -0.06405962, -0.06273752,  0.08200763,  0.06353696,\n",
      "        0.08071241, -0.06275298,  0.06809771,  0.06258256,  0.07819742,\n",
      "       -0.06483537,  0.06323464, -0.06315972, -0.04869523, -0.06380206,\n",
      "       -0.05379228,  0.08175333,  0.06361633,  0.0612952 ,  0.06183621,\n",
      "       -0.06404818, -0.0430408 ,  0.06339336,  0.02639478, -0.06380809,\n",
      "       -0.06408472, -0.06786679, -0.00178908, -0.06343012, -0.06406822,\n",
      "       -0.06346936, -0.06405883,  0.0630873 , -0.04242213, -0.06376794,\n",
      "       -0.06485666,  0.06345582, -0.03847448,  0.00251698,  0.07660718,\n",
      "       -0.06487589, -0.06467067, -0.03839013, -0.04278   , -0.06447827,\n",
      "        0.08274145, -0.00013018,  0.0580073 ,  0.06166428, -0.06551232,\n",
      "       -0.02109544,  0.06328676,  0.06230655, -0.06366762,  0.08034996,\n",
      "       -0.02147212, -0.04284   , -0.06117658, -0.04176006,  0.07845137,\n",
      "       -0.06375934,  0.06217752, -0.06540343, -0.06297362,  0.05916071,\n",
      "        0.05884839,  0.06853254, -0.06238756, -0.06426614, -0.06435972,\n",
      "       -0.03979744, -0.05793386, -0.03851959, -0.06500107, -0.0650757 ,\n",
      "       -0.03987846, -0.06511172, -0.03835576, -0.06405729,  0.06338237,\n",
      "       -0.06402167, -0.06404267, -0.02157564,  0.07739389,  0.06187517,\n",
      "       -0.03916516, -0.03940125, -0.04308989,  0.06300362, -0.06380393,\n",
      "       -0.07461778,  0.06188428, -0.06042865, -0.06407055, -0.06426512,\n",
      "       -0.0393012 ,  0.06201029,  0.07061635,  0.07688235,  0.06365765,\n",
      "       -0.06452305, -0.04290247, -0.03925168, -0.0446381 , -0.06489665,\n",
      "        0.06358229, -0.0367505 , -0.06339044, -0.05875054,  0.0618942 ,\n",
      "       -0.06282805, -0.06438441,  0.06155654, -0.04030118,  0.07907311,\n",
      "       -0.0018201 , -0.03830792, -0.06454078, -0.04385133, -0.06375782,\n",
      "       -0.06175208, -0.06104077,  0.06216071,  0.06340081, -0.05796291,\n",
      "       -0.06553304,  0.02749444,  0.06250724, -0.04539943, -0.03835931,\n",
      "       -0.03376554,  0.07970089, -0.06368026, -0.06408686,  0.07661841,\n",
      "       -0.0641022 ,  0.06244083, -0.06493507,  0.06310892, -0.06313819,\n",
      "        0.04273015,  0.06348582,  0.06231794,  0.06110103, -0.04243791])\n"
     ]
    }
   ],
   "source": [
    "coef = np.array(model.coefs_)\n",
    "print(coef[0].shape)\n",
    "print(coef[1].shape)\n",
    "print(repr(coef[1].reshape(200)))\n",
    "# print(model.coefs_)\n",
    "for i in range(7):\n",
    "    print(repr(coef[0][i]))\n"
   ]
  },
  {
   "cell_type": "code",
   "execution_count": 42,
   "metadata": {},
   "outputs": [],
   "source": [
    "from sklearn.linear_model import LinearRegression\n",
    "training_model_name_2 = 'Nmin_Linear_model_v1'\n",
    "model2 = LinearRegression().fit(X_train, Y_train)\n",
    "save_model(model2,training_model_name_2)"
   ]
  },
  {
   "cell_type": "code",
   "execution_count": 43,
   "metadata": {},
   "outputs": [
    {
     "name": "stdout",
     "output_type": "stream",
     "text": [
      "{'copy_X': True, 'fit_intercept': True, 'n_jobs': None, 'normalize': False}\n",
      "Test r-score:  0.14015508114401287\n",
      "Test mean:  3.5020296587708097\n",
      "[ 2  2  2 ... 10  4  3]\n",
      "[3.0210202  2.76326802 2.56258954 ... 5.3454705  4.45465787 4.88882664]\n"
     ]
    }
   ],
   "source": [
    "print(model2.get_params())\n",
    "evaluate_model(model2,X_test,Y_test)"
   ]
  },
  {
   "cell_type": "code",
   "execution_count": 46,
   "metadata": {},
   "outputs": [
    {
     "name": "stdout",
     "output_type": "stream",
     "text": [
      "array([-6.89332385e+00,  1.64223469e+01,  1.86527774e+00, -1.25485051e+00,\n",
      "       -1.48365888e+01,  4.69713853e+00,  1.84108700e-03])\n",
      "9.185273596135618\n"
     ]
    }
   ],
   "source": [
    "linear_coef = model2.coef_\n",
    "print(repr(linear_coef))\n",
    "print(repr(model2.intercept_))"
   ]
  }
 ],
 "metadata": {
  "interpreter": {
   "hash": "5ef1a8950ce0fa2c598227f08e612ec9b24c4b828383aadb3ebd7f2669e1e894"
  },
  "kernelspec": {
   "display_name": "Python 3.7.7 ('DL')",
   "language": "python",
   "name": "python3"
  },
  "language_info": {
   "codemirror_mode": {
    "name": "ipython",
    "version": 3
   },
   "file_extension": ".py",
   "mimetype": "text/x-python",
   "name": "python",
   "nbconvert_exporter": "python",
   "pygments_lexer": "ipython3",
   "version": "3.7.7"
  },
  "orig_nbformat": 4
 },
 "nbformat": 4,
 "nbformat_minor": 2
}