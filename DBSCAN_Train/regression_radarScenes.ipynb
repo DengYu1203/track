{
 "cells": [
  {
   "cell_type": "code",
   "execution_count": 2,
   "metadata": {},
   "outputs": [],
   "source": [
    "import os\n",
    "import csv\n",
    "import numpy as np\n",
    "from sklearn import model_selection\n",
    "from sklearn import metrics\n",
    "# from sklearn.linear_model import LinearRegression\n",
    "from sklearn.neural_network import MLPRegressor\n",
    "import pickle\n",
    "import matplotlib.pyplot as plt"
   ]
  },
  {
   "cell_type": "code",
   "execution_count": 3,
   "metadata": {},
   "outputs": [
    {
     "name": "stdout",
     "output_type": "stream",
     "text": [
      "/home/user/deng/catkin_deng/src/track/DBSCAN_Train/radarScenes_v2\n"
     ]
    }
   ],
   "source": [
    "code_path = os.getcwd()\n",
    "input_dir = os.path.join(code_path,'radarScenes_v2')\n",
    "print(input_dir)"
   ]
  },
  {
   "cell_type": "code",
   "execution_count": 15,
   "metadata": {},
   "outputs": [],
   "source": [
    "def csv_read():\n",
    "  print(\"Reading directory:\",input_dir)\n",
    "  files = os.listdir(input_dir)\n",
    "  files.sort(key=lambda x:x[:11])\n",
    "  print('Training Sequence:',len(files))\n",
    "  Eps = []\n",
    "  TrainX = []\n",
    "  for filename in files:\n",
    "    csv_path = os.path.join(input_dir,filename)\n",
    "    # Eps = []\n",
    "    # TrainX = []\n",
    "    with open(csv_path,newline='') as csv_file:\n",
    "      rows = csv.reader(csv_file)\n",
    "      first = True\n",
    "      for row in rows:\n",
    "        if first:\n",
    "          first = False\n",
    "          continue\n",
    "        if str(row).find('nan') != -1 or str(row).find('inf') != -1:\n",
    "          continue\n",
    "        Eps.append(float(row[0]))\n",
    "        input_row = []\n",
    "        input_row.append(float(row[4])) # vel\n",
    "        input_row.append(float(row[5])) # r\n",
    "        input_row.append(float(row[6])) # dt\n",
    "        input_row.append(float(row[7])) # scan num\n",
    "        # input_row.append(float(row[8])) # vx\n",
    "        # input_row.append(float(row[9])) # vy\n",
    "        # input_row.append(float(row[10])) # rcs\n",
    "        # input_row.append(float(row[11])) # angle\n",
    "        # input_row.append(float(row[12])) # vel_dir\n",
    "        TrainX.append(input_row)\n",
    "  EpsMatrix = np.asarray(Eps)\n",
    "  EpsMatrix.reshape(len(Eps),1)\n",
    "  Eps_min = np.min(EpsMatrix)\n",
    "  Eps_max = np.max(EpsMatrix)\n",
    "  EpsMatrix = (EpsMatrix-Eps_min)/(Eps_max-Eps_min)\n",
    "  TrainMatrix = np.asarray(TrainX)\n",
    "  X_train, X_test, Y_train, Y_test = model_selection.train_test_split(np.array(TrainMatrix), np.array(EpsMatrix), test_size=0.2)\n",
    "  print('Training Element: vel, r, dt, scan num')\n",
    "  return X_train, X_test, Y_train, Y_test"
   ]
  },
  {
   "cell_type": "code",
   "execution_count": 16,
   "metadata": {},
   "outputs": [
    {
     "name": "stdout",
     "output_type": "stream",
     "text": [
      "Reading directory: /home/user/deng/catkin_deng/src/track/DBSCAN_Train/radarScenes_v2\n",
      "Training Sequence: 120\n",
      "Training Element: vel, r, dt, scan num\n"
     ]
    }
   ],
   "source": [
    "X_train, X_test, Y_train, Y_test = csv_read()"
   ]
  },
  {
   "cell_type": "code",
   "execution_count": 6,
   "metadata": {},
   "outputs": [],
   "source": [
    "def save_model(model,name):\n",
    "    out_path = os.path.join(code_path,name+'.sav')\n",
    "    pickle.dump(model,open(out_path,'wb'))"
   ]
  },
  {
   "cell_type": "code",
   "execution_count": 7,
   "metadata": {},
   "outputs": [],
   "source": [
    "def evaluate_model(model,X_test,Y_test):\n",
    "    predict_y_test = model.predict(X_test)\n",
    "    print('Test r-score: ',metrics.r2_score(Y_test,predict_y_test))\n",
    "    print('Test mean: ',metrics.mean_squared_error(Y_test,predict_y_test))\n",
    "    print(Y_test)\n",
    "    print(predict_y_test)"
   ]
  },
  {
   "cell_type": "code",
   "execution_count": 8,
   "metadata": {},
   "outputs": [],
   "source": [
    "def load_model(name):\n",
    "    load_path = os.path.join(code_path,name+'.sav')\n",
    "    return pickle.load(open(load_path, 'rb'))"
   ]
  },
  {
   "cell_type": "code",
   "execution_count": 17,
   "metadata": {},
   "outputs": [
    {
     "name": "stdout",
     "output_type": "stream",
     "text": [
      "Training Net(logistic v4)!\n"
     ]
    }
   ],
   "source": [
    "print('Training Net(logistic v4)!')\n",
    "model = MLPRegressor(hidden_layer_sizes=200, max_iter=300, activation='logistic')\n",
    "model.fit(X_train,Y_train)\n",
    "save_model(model,'MLP_model_logistic_v4')"
   ]
  },
  {
   "cell_type": "code",
   "execution_count": 9,
   "metadata": {},
   "outputs": [
    {
     "name": "stdout",
     "output_type": "stream",
     "text": [
      "Test r-score:  0.11403700384410997\n",
      "Test mean:  0.020275232947028883\n",
      "[0.38461538 0.15384615 0.07692308 ... 0.11538462 0.07692308 0.07692308]\n",
      "[0.18049323 0.08099103 0.08806943 ... 0.12396107 0.07949145 0.09839099]\n",
      "[array([[ 1.07412678e-05,  1.06702893e-05,  1.06378749e-05, ...,\n",
      "         1.07447292e-05,  1.06816875e-05,  1.07209075e-05],\n",
      "       [-1.51980070e-04, -1.51021084e-04, -1.50583025e-04, ...,\n",
      "        -1.52026828e-04, -1.51175108e-04, -1.51705017e-04],\n",
      "       [-5.81367042e-08, -5.77601390e-08, -5.75880942e-08, ...,\n",
      "        -5.81550623e-08, -5.78206258e-08, -5.80287090e-08],\n",
      "       [-4.44742461e-07, -4.41900125e-07, -4.40601870e-07, ...,\n",
      "        -4.44881056e-07, -4.42356612e-07, -4.43927199e-07],\n",
      "       [-4.18609803e-06, -4.16599279e-06, -4.15679570e-06, ...,\n",
      "        -4.18707732e-06, -4.16922455e-06, -4.18033554e-06],\n",
      "       [-1.19566939e-07, -1.18556253e-07, -1.18094903e-07, ...,\n",
      "        -1.19616243e-07, -1.18718514e-07, -1.19276959e-07]]), array([[-2.84724893e-04],\n",
      "       [-2.83726657e-04],\n",
      "       [-2.83269342e-04],\n",
      "       [-2.84466716e-04],\n",
      "       [-2.84669190e-04],\n",
      "       [-5.09566112e-02],\n",
      "       [-2.84727608e-04],\n",
      "       [ 2.12604016e-01],\n",
      "       [ 1.77167222e+00],\n",
      "       [-2.83364104e-04],\n",
      "       [-2.83310491e-04],\n",
      "       [-2.83797139e-04],\n",
      "       [-2.84414958e-04],\n",
      "       [ 7.27586323e-02],\n",
      "       [-2.83264453e-04],\n",
      "       [-2.83650293e-04],\n",
      "       [-2.85085018e-04],\n",
      "       [-2.84917936e-04],\n",
      "       [-2.83371522e-04],\n",
      "       [-2.83415976e-04],\n",
      "       [ 5.52694538e-02],\n",
      "       [-2.85547702e-04],\n",
      "       [-2.84639601e-04],\n",
      "       [-2.86860511e-04],\n",
      "       [-2.83813855e-04],\n",
      "       [-2.86852996e-04],\n",
      "       [-2.83501699e-04],\n",
      "       [-2.83666822e-04],\n",
      "       [ 1.63549089e-01],\n",
      "       [-2.83918239e-04],\n",
      "       [-2.83777068e-04],\n",
      "       [-2.84333703e-04],\n",
      "       [-2.83190107e-04],\n",
      "       [-2.86492379e-04],\n",
      "       [-2.95882502e-01],\n",
      "       [-2.85476405e-04],\n",
      "       [-3.05262199e-04],\n",
      "       [-2.84348766e-04],\n",
      "       [-2.87487221e-04],\n",
      "       [-2.83142684e-04],\n",
      "       [-2.83401167e-04],\n",
      "       [-2.83445532e-04],\n",
      "       [-2.83128276e-04],\n",
      "       [-2.84140805e-04],\n",
      "       [-2.83900759e-04],\n",
      "       [-2.83652264e-04],\n",
      "       [-2.85419486e-04],\n",
      "       [-2.89864816e-04],\n",
      "       [-2.84943649e-04],\n",
      "       [-2.83995586e-04],\n",
      "       [-2.85430573e-04],\n",
      "       [-2.87848939e-04],\n",
      "       [-2.83282089e-04],\n",
      "       [-2.83651125e-04],\n",
      "       [-3.02451942e-01],\n",
      "       [-2.85298193e-04],\n",
      "       [-2.87620954e-04],\n",
      "       [ 1.08653469e-01],\n",
      "       [ 1.32161235e+00],\n",
      "       [-2.83817105e-04],\n",
      "       [-2.95261974e-04],\n",
      "       [ 9.97459420e-03],\n",
      "       [-2.83246100e-04],\n",
      "       [-3.17532406e-04],\n",
      "       [-2.84374256e-04],\n",
      "       [-2.96906408e-04],\n",
      "       [-2.91510133e-04],\n",
      "       [-1.43456299e-01],\n",
      "       [-2.83487678e-04],\n",
      "       [-2.83543861e-04],\n",
      "       [-2.83219156e-04],\n",
      "       [-2.86895288e-04],\n",
      "       [-2.83842076e-04],\n",
      "       [-2.82967596e-04],\n",
      "       [-2.86646324e-04],\n",
      "       [-2.83536214e-04],\n",
      "       [-2.88860886e-04],\n",
      "       [-2.84148594e-04],\n",
      "       [ 4.62173262e-01],\n",
      "       [ 6.32599531e-02],\n",
      "       [-2.83877522e-04],\n",
      "       [-2.83272685e-04],\n",
      "       [-1.28750387e-01],\n",
      "       [-2.83225498e-04],\n",
      "       [-2.83203243e-04],\n",
      "       [-2.84168887e-04],\n",
      "       [-2.89391285e-04],\n",
      "       [-2.83078985e-04],\n",
      "       [-2.86020212e-04],\n",
      "       [-2.88128326e-04],\n",
      "       [-2.85447456e-04],\n",
      "       [-2.85214259e-04],\n",
      "       [-2.88655087e-04],\n",
      "       [-2.83489230e-04],\n",
      "       [-2.84095823e-04],\n",
      "       [-2.88311116e-04],\n",
      "       [-2.83102873e-04],\n",
      "       [-2.84050236e-04],\n",
      "       [-2.84365812e-04],\n",
      "       [-2.84848715e-04],\n",
      "       [-2.84809978e-04],\n",
      "       [-2.83458869e-04],\n",
      "       [-2.83727476e-04],\n",
      "       [-2.88754167e-04],\n",
      "       [-2.88189736e-04],\n",
      "       [-2.83431447e-04],\n",
      "       [-2.83806117e-04],\n",
      "       [-2.84329735e-04],\n",
      "       [-2.83344993e-04],\n",
      "       [-2.83808930e-04],\n",
      "       [-2.84596140e-04],\n",
      "       [-2.86023209e-04],\n",
      "       [-2.83519565e-04],\n",
      "       [-2.84503978e-04],\n",
      "       [-2.84273022e-04],\n",
      "       [-2.83725124e-04],\n",
      "       [ 2.25212638e-02],\n",
      "       [-2.84039953e-04],\n",
      "       [-2.83147155e-04],\n",
      "       [-2.85390266e-04],\n",
      "       [-2.82962990e-04],\n",
      "       [-2.83163920e-04],\n",
      "       [-2.83312767e-04],\n",
      "       [-2.83077013e-04],\n",
      "       [-2.85341892e-04],\n",
      "       [-2.88401394e-04],\n",
      "       [-2.83758688e-04],\n",
      "       [-2.83504200e-04],\n",
      "       [-2.83314247e-04],\n",
      "       [-2.84416705e-04],\n",
      "       [-2.83777284e-04],\n",
      "       [-2.51711862e-02],\n",
      "       [-2.98108275e-04],\n",
      "       [-2.84909208e-04],\n",
      "       [ 3.13048729e-01],\n",
      "       [-2.89379896e-04],\n",
      "       [-2.83650243e-04],\n",
      "       [-2.84009035e-04],\n",
      "       [-2.85415817e-04],\n",
      "       [-2.83437780e-04],\n",
      "       [-2.83161874e-04],\n",
      "       [-2.87399499e-04],\n",
      "       [ 4.76353091e-01],\n",
      "       [-2.87807170e-04],\n",
      "       [-2.83419233e-04],\n",
      "       [-2.83213256e-04],\n",
      "       [ 3.61060880e-01],\n",
      "       [-2.83253751e-04],\n",
      "       [-2.89039122e-04],\n",
      "       [-2.84022625e-04],\n",
      "       [-2.83086711e-04],\n",
      "       [-2.23122461e-01],\n",
      "       [-2.83459045e-04],\n",
      "       [-2.83128330e-04],\n",
      "       [-2.55050523e-01],\n",
      "       [-2.83551322e-04],\n",
      "       [-2.91170375e-04],\n",
      "       [-2.83258203e-04],\n",
      "       [-2.87735348e-04],\n",
      "       [-2.83454272e-04],\n",
      "       [-6.83079322e-02],\n",
      "       [-2.92162455e-04],\n",
      "       [-2.83400783e-04],\n",
      "       [-2.85023753e-04],\n",
      "       [-2.83762655e-04],\n",
      "       [-2.83644976e-04],\n",
      "       [-2.84671508e-04],\n",
      "       [-2.83398075e-04],\n",
      "       [-2.86931871e-04],\n",
      "       [-2.42584052e-01],\n",
      "       [-2.84927042e-04],\n",
      "       [ 9.36199467e-02],\n",
      "       [-2.88756800e-04],\n",
      "       [-1.91041146e-01],\n",
      "       [-2.83382867e-04],\n",
      "       [-2.82964475e-04],\n",
      "       [-2.83760262e-04],\n",
      "       [-2.83350339e-04],\n",
      "       [-2.86199525e-04],\n",
      "       [-2.93438989e-04],\n",
      "       [-2.83258234e-04],\n",
      "       [-2.86775156e-04],\n",
      "       [-2.83888008e-04],\n",
      "       [-2.84170194e-04],\n",
      "       [-2.85451057e-04],\n",
      "       [-2.83520325e-04],\n",
      "       [-2.86148763e-04],\n",
      "       [-2.82986223e-04],\n",
      "       [-2.88729412e-04],\n",
      "       [-2.89853334e-04],\n",
      "       [-2.83724971e-04],\n",
      "       [-2.83632982e-04],\n",
      "       [-2.84425548e-04],\n",
      "       [-2.84915883e-04],\n",
      "       [-2.83495246e-04],\n",
      "       [-2.84463560e-04],\n",
      "       [-2.83119201e-04],\n",
      "       [-2.84773463e-04],\n",
      "       [-2.83887252e-04],\n",
      "       [-2.84438989e-04]])]\n"
     ]
    }
   ],
   "source": [
    "# model = load_model('MLP_model_logistic_v2')\n",
    "# model.get_params()\n",
    "evaluate_model(model,X_test,Y_test)\n",
    "# print(model.coefs_)"
   ]
  },
  {
   "cell_type": "code",
   "execution_count": 18,
   "metadata": {},
   "outputs": [
    {
     "name": "stdout",
     "output_type": "stream",
     "text": [
      "Test r-score:  0.0742389617553354\n",
      "Test mean:  0.021157411502755342\n",
      "[0.07692308 0.07692308 0.07692308 ... 0.07692308 0.07692308 0.07692308]\n",
      "[0.21727752 0.08418046 0.18596122 ... 0.08560892 0.27582911 0.10054532]\n"
     ]
    },
    {
     "data": {
      "image/png": "[encoded data removed]",
      "text/plain": [
       "<Figure size 432x288 with 1 Axes>"
      ]
     },
     "metadata": {
      "needs_background": "light"
     },
     "output_type": "display_data"
    }
   ],
   "source": [
    "# model = load_model('MLP_model_logistic')\n",
    "plt.plot(model.loss_curve_)\n",
    "evaluate_model(model,X_test,Y_test)"
   ]
  },
  {
   "cell_type": "code",
   "execution_count": 19,
   "metadata": {},
   "outputs": [
    {
     "name": "stdout",
     "output_type": "stream",
     "text": [
      "End training iter 0\n",
      "End training iter 1\n",
      "End training iter 2\n",
      "End training iter 3\n",
      "End training iter 4\n",
      "End training iter 5\n",
      "End training iter 6\n",
      "End training iter 7\n",
      "End training iter 8\n",
      "End training iter 9\n",
      "End training iter 10\n",
      "End training iter 11\n",
      "End training iter 12\n",
      "End training iter 13\n",
      "End training iter 14\n",
      "End training iter 15\n",
      "End training iter 16\n",
      "End training iter 17\n",
      "End training iter 18\n",
      "End training iter 19\n",
      "End training iter 20\n",
      "End training iter 21\n",
      "End training iter 22\n",
      "End training iter 23\n",
      "End training iter 24\n",
      "End training iter 25\n",
      "End training iter 26\n",
      "End training iter 27\n",
      "End training iter 28\n",
      "End training iter 29\n",
      "End training iter 30\n",
      "End training iter 31\n",
      "End training iter 32\n",
      "End training iter 33\n",
      "End training iter 34\n",
      "End training iter 35\n",
      "End training iter 36\n",
      "End training iter 37\n",
      "End training iter 38\n",
      "End training iter 39\n",
      "End training iter 40\n",
      "End training iter 41\n",
      "End training iter 42\n",
      "End training iter 43\n",
      "End training iter 44\n",
      "End training iter 45\n",
      "End training iter 46\n",
      "End training iter 47\n",
      "End training iter 48\n",
      "End training iter 49\n"
     ]
    }
   ],
   "source": [
    "for i in range(50):\n",
    "    model.partial_fit(X_train,Y_train)\n",
    "    # plt.plot(model.loss_curve_)\n",
    "    print('End training iter',i)\n",
    "    save_model(model,'MLP_model_logistic_v4')"
   ]
  },
  {
   "cell_type": "code",
   "execution_count": 20,
   "metadata": {},
   "outputs": [
    {
     "name": "stdout",
     "output_type": "stream",
     "text": [
      "{'activation': 'logistic', 'alpha': 0.0001, 'batch_size': 'auto', 'beta_1': 0.9, 'beta_2': 0.999, 'early_stopping': False, 'epsilon': 1e-08, 'hidden_layer_sizes': 200, 'learning_rate': 'constant', 'learning_rate_init': 0.001, 'max_fun': 15000, 'max_iter': 300, 'momentum': 0.9, 'n_iter_no_change': 10, 'nesterovs_momentum': True, 'power_t': 0.5, 'random_state': None, 'shuffle': True, 'solver': 'adam', 'tol': 0.0001, 'validation_fraction': 0.1, 'verbose': False, 'warm_start': False}\n",
      "Test r-score:  0.0790157398250595\n",
      "Test mean:  0.021048242662089805\n",
      "[0.07692308 0.07692308 0.07692308 ... 0.07692308 0.07692308 0.07692308]\n",
      "[0.21872522 0.08163098 0.19179735 ... 0.07571141 0.31695207 0.09853556]\n"
     ]
    },
    {
     "data": {
      "text/plain": [
       "[<matplotlib.lines.Line2D at 0x7f561c472710>]"
      ]
     },
     "execution_count": 20,
     "metadata": {},
     "output_type": "execute_result"
    },
    {
     "data": {
      "image/png": "[encoded data removed]",
      "text/plain": [
       "<Figure size 432x288 with 1 Axes>"
      ]
     },
     "metadata": {
      "needs_background": "light"
     },
     "output_type": "display_data"
    }
   ],
   "source": [
    "print(model.get_params())\n",
    "evaluate_model(model,X_test,Y_test)\n",
    "plt.plot(model.loss_curve_)"
   ]
  },
  {
   "cell_type": "code",
   "execution_count": 22,
   "metadata": {},
   "outputs": [
    {
     "name": "stdout",
     "output_type": "stream",
     "text": [
      "(4, 200)\n",
      "array([-1.78548878e-05, -2.26799870e-05, -1.75120827e-05, -1.92100492e-05,\n",
      "       -1.77951659e-05, -1.77142313e-05, -1.77395271e-05, -2.00186730e-05,\n",
      "       -2.23582077e-05, -1.92729437e-05, -1.77107102e-05, -1.75434920e-05,\n",
      "       -1.81578538e-05, -2.35243523e-05, -1.93613614e-05, -1.97074738e-05,\n",
      "       -1.76710211e-05, -1.79118266e-05, -1.95254693e-05, -1.75496689e-05,\n",
      "       -1.77498545e-05, -1.80541336e-05, -1.77485241e-05, -1.94764852e-05,\n",
      "       -1.76426046e-05, -1.80214693e-05, -1.74863864e-05, -1.76104780e-05,\n",
      "       -2.04749567e-05, -1.74851637e-05, -1.74452221e-05, -2.18457418e-05,\n",
      "       -1.94743173e-05, -1.79553469e-05, -1.98025594e-05, -1.83183846e-05,\n",
      "       -1.86965081e-05, -1.92977802e-05, -2.06937990e-05, -1.78230208e-05,\n",
      "       -1.81120230e-05, -1.94502119e-05, -1.95249172e-05, -2.17999353e-05,\n",
      "       -1.79293733e-05, -2.16923404e-05, -1.76296942e-05, -1.76689071e-05,\n",
      "       -1.96188203e-05, -1.75796128e-05, -4.40563068e-05, -1.75931228e-05,\n",
      "       -1.89755114e-05, -1.77659745e-05, -1.77431357e-05,  1.00158374e+00,\n",
      "       -1.82523605e-05, -1.92710827e-05, -1.82203538e-05, -2.35091253e-01,\n",
      "       -5.44626373e-02, -1.76462066e-05, -2.02850563e-05,  3.27078946e-01,\n",
      "       -2.39942013e-05, -1.81837939e-05,  5.75096099e-01, -1.78731580e-05,\n",
      "       -1.91270680e-05, -2.14349600e-05, -1.75626522e-05, -1.88753566e-05,\n",
      "       -2.28724791e-05, -1.77046947e-05, -2.00245583e-05, -1.77605678e-05,\n",
      "        4.30926832e-02, -5.96382134e-02, -1.79203681e-05, -1.76286243e-05,\n",
      "       -1.96472743e-05, -1.97439727e-05, -2.10210569e-05, -1.77469914e-05,\n",
      "       -1.77444065e-05, -1.81320040e-05, -1.81496089e-05, -1.75969208e-05,\n",
      "       -1.79130994e-05, -1.77318757e-05, -1.79458563e-05, -1.75114412e-05,\n",
      "       -1.91060136e-05, -1.76961308e-05, -1.74743528e-05, -1.77552019e-05,\n",
      "       -1.77258610e-05, -1.75810141e-05, -1.79579157e-05, -2.13747864e-05,\n",
      "       -1.74630291e-05, -1.77393136e-05, -1.83078112e-05, -1.75569085e-05,\n",
      "       -1.82870886e-05, -1.96633833e-05, -1.77738503e-05, -1.77814356e-05,\n",
      "       -1.98162676e-05, -2.03917698e-05, -1.74788700e-05, -1.80918036e-05,\n",
      "       -1.77549700e-05, -1.77916612e-05, -2.51251631e-05, -1.81655912e-05,\n",
      "       -1.77910343e-05,  5.17975298e-01, -1.77992791e-05, -1.77712945e-05,\n",
      "       -2.20119986e-05, -1.74817897e-05, -1.76723667e-05, -1.92924213e-05,\n",
      "       -1.95357658e-05, -1.81693546e-05, -1.76781879e-05, -1.92389934e-05,\n",
      "       -1.78591168e-05,  1.26937168e-01, -1.77347754e-05, -2.79814666e-01,\n",
      "       -2.01624228e-05, -1.77226157e-05, -1.79003057e-05, -1.75288359e-05,\n",
      "       -1.91816903e-05, -2.00497201e-05, -1.76495079e-05, -1.91606570e-05,\n",
      "       -1.78351553e-05, -2.18437025e-05, -1.91094481e-05, -1.94616366e-05,\n",
      "       -1.92228150e-05, -1.76349204e-05, -2.04988541e-05, -1.78822638e-05,\n",
      "       -1.79169363e-05, -1.76527502e-05, -2.00173652e-05, -1.74414216e-05,\n",
      "       -1.80344997e-05, -2.28608076e-05,  1.72354745e-01, -1.75186873e-05,\n",
      "       -1.79088550e-05, -1.76768483e-05, -2.09437918e-05, -1.75457454e-05,\n",
      "       -2.18761823e-05, -1.07642795e-04, -9.33043797e-01, -2.51362149e-05,\n",
      "       -1.77749580e-05, -1.98019156e-05, -2.58268167e-05, -9.02567527e-01,\n",
      "       -1.90103019e-05, -2.07624533e-05, -1.80025099e-05, -1.77050378e-05,\n",
      "       -1.90157076e-05, -1.77483810e-05, -2.43895503e-05, -1.75621434e-05,\n",
      "       -2.52814614e-05, -1.99513575e-05, -1.75942930e-05, -1.77823691e-05,\n",
      "       -1.97455846e-05, -1.76622211e-05, -1.76667297e-05, -1.98196582e-05,\n",
      "       -2.15747119e-05, -1.78245588e-05, -1.76807073e-05,  7.54738570e-01,\n",
      "       -1.76625804e-05, -1.81482012e-05, -1.85909818e-05, -1.79219460e-05,\n",
      "       -2.10976434e-05, -1.80117600e-05, -1.90669575e-05, -1.96272122e-05,\n",
      "       -2.21652121e-05, -1.93873682e-05, -1.94677189e-01, -1.74770530e-05])\n",
      "array([-1.97216802e-04, -2.23690464e-04, -1.95276454e-04, -2.04803102e-04,\n",
      "       -1.96879406e-04, -1.96421740e-04, -1.96564835e-04, -2.09269922e-04,\n",
      "       -2.21968077e-04, -2.05152077e-04, -1.96401817e-04, -1.95454611e-04,\n",
      "       -1.98924289e-04, -2.28184520e-04, -2.05642221e-04, -2.07555915e-04,\n",
      "       -1.96177193e-04, -1.97538225e-04, -2.06550575e-04, -1.95489639e-04,\n",
      "       -1.96623242e-04, -1.98340498e-04, -1.96615718e-04, -2.06279629e-04,\n",
      "       -1.96016293e-04, -1.98156482e-04, -1.95130644e-04, -1.95834310e-04,\n",
      "       -2.11771949e-04, -1.95123705e-04, -1.94896957e-04, -2.19213473e-04,\n",
      "       -2.06267635e-04, -1.97783736e-04, -2.08080283e-04, -1.99826287e-04,\n",
      "       -2.01943574e-04, -2.05289811e-04, -2.12967411e-04, -1.97036804e-04,\n",
      "       -1.98666428e-04, -2.06134239e-04, -2.06547522e-04, -2.18966551e-04,\n",
      "       -1.97637228e-04, -2.18386093e-04, -1.95943171e-04, -1.96165225e-04,\n",
      "       -2.07066489e-04, -1.95659399e-04, -3.29645537e-04, -1.95735968e-04,\n",
      "       -2.03499386e-04, -1.96714393e-04, -1.96585245e-04, -1.43462220e-01,\n",
      "       -1.99455535e-04, -2.05141755e-04, -1.99275691e-04, -3.25730644e-01,\n",
      "       -5.18637620e-01, -1.96036691e-04, -2.10732208e-04, -8.90290520e-01,\n",
      "       -2.30669775e-04, -1.99070170e-04, -5.64339430e-02, -1.97319965e-04,\n",
      "       -2.04342265e-04, -2.16994917e-04, -1.95563253e-04, -2.02941512e-04,\n",
      "       -2.24718208e-04, -1.96367780e-04, -2.09302277e-04, -1.96683823e-04,\n",
      "        4.99647867e-02,  4.76140169e-01, -1.97586421e-04, -1.95937110e-04,\n",
      "       -2.07223630e-04, -2.07757264e-04, -2.14749731e-04, -1.96607050e-04,\n",
      "       -1.96592432e-04, -1.98778867e-04, -1.98877912e-04, -1.95757492e-04,\n",
      "       -1.97545407e-04, -1.96521557e-04, -1.97730209e-04, -1.95272814e-04,\n",
      "       -2.04225265e-04, -1.96319318e-04, -1.95062344e-04, -1.96653481e-04,\n",
      "       -1.96487533e-04, -1.95667341e-04, -1.97798223e-04, -2.16669126e-04,\n",
      "       -1.94998063e-04, -1.96563627e-04, -1.99766934e-04, -1.95530688e-04,\n",
      "       -1.99650587e-04, -2.07312570e-04, -1.96758919e-04, -1.96801800e-04,\n",
      "       -2.08155832e-04, -2.11316759e-04, -1.95087984e-04, -1.98552616e-04,\n",
      "       -1.96652170e-04, -1.96859598e-04, -2.36608917e-04, -1.98967808e-04,\n",
      "       -1.96856055e-04, -7.05771392e-02, -1.96902652e-04, -1.96744470e-04,\n",
      "       -2.20108712e-04, -1.95104555e-04, -1.96184810e-04, -2.05260096e-04,\n",
      "       -2.06607507e-04, -1.98988973e-04, -1.96217763e-04, -2.04963734e-04,\n",
      "       -1.97240683e-04, -2.51287853e-01, -1.96537959e-04,  1.13072440e-01,\n",
      "       -2.10059576e-04, -1.96469175e-04, -1.97473208e-04, -1.95371489e-04,\n",
      "       -2.04645662e-04, -2.09440582e-04, -1.96055386e-04, -2.04528858e-04,\n",
      "       -1.97105354e-04, -2.19202483e-04, -2.04244353e-04, -2.06197466e-04,\n",
      "       -2.04873955e-04, -1.95972772e-04, -2.11902634e-04, -1.97371371e-04,\n",
      "       -1.97567057e-04, -1.96073746e-04, -2.09262732e-04, -1.94875376e-04,\n",
      "       -1.98229899e-04, -2.24655947e-04, -3.17009498e-01, -1.95313922e-04,\n",
      "       -1.97521456e-04, -1.96210180e-04, -2.14329503e-04, -1.95467390e-04,\n",
      "       -2.19377500e-04, -6.05498929e-04,  3.15384399e-01, -2.36666664e-04,\n",
      "       -1.96765182e-04, -2.08076734e-04, -2.40264439e-04, -2.00162870e-01,\n",
      "       -2.03693011e-04, -2.13341848e-04, -1.98049637e-04, -1.96369721e-04,\n",
      "       -2.03723089e-04, -1.96614909e-04, -2.32752703e-04, -1.95560369e-04,\n",
      "       -2.37425091e-04, -2.08899691e-04, -1.95742600e-04, -1.96807076e-04,\n",
      "       -2.07766155e-04, -1.96127372e-04, -1.96152898e-04, -2.08174516e-04,\n",
      "       -2.17750761e-04, -1.97045494e-04, -1.96232024e-04,  1.15733705e-01,\n",
      "       -1.96129406e-04, -1.98869993e-04, -2.01353707e-04, -1.97595324e-04,\n",
      "       -2.15165922e-04, -1.98101769e-04, -2.04008149e-04, -2.07112840e-04,\n",
      "       -2.20932371e-04, -2.05786290e-04,  7.11072667e-02, -1.95077671e-04])\n",
      "array([-2.33508484e-07, -2.69027931e-07, -2.30932151e-07, -2.43617942e-07,\n",
      "       -2.33060223e-07, -2.32452357e-07, -2.32642391e-07, -2.49596991e-07,\n",
      "       -2.66697102e-07, -2.44084362e-07, -2.32425902e-07, -2.31168540e-07,\n",
      "       -2.35778821e-07, -2.75121894e-07, -2.44739661e-07, -2.47300424e-07,\n",
      "       -2.32127642e-07, -2.33935633e-07, -2.45954708e-07, -2.31215021e-07,\n",
      "       -2.32719963e-07, -2.35002258e-07, -2.32709970e-07, -2.45592197e-07,\n",
      "       -2.31914029e-07, -2.34757550e-07, -2.30738706e-07, -2.31672458e-07,\n",
      "       -2.52954462e-07, -2.30729500e-07, -2.30428721e-07, -2.62974961e-07,\n",
      "       -2.45576151e-07, -2.34261971e-07, -2.48002715e-07, -2.36979345e-07,\n",
      "       -2.39800589e-07, -2.44268481e-07, -2.54560750e-07, -2.33269326e-07,\n",
      "       -2.35435769e-07, -2.45397702e-07, -2.45950623e-07, -2.62641645e-07,\n",
      "       -2.34067223e-07, -2.61858314e-07, -2.31816959e-07, -2.32111752e-07,\n",
      "       -2.46645172e-07, -2.31440306e-07, -4.16720186e-07, -2.31541929e-07,\n",
      "       -2.41876531e-07, -2.32841030e-07, -2.32669498e-07, -6.21223667e-02,\n",
      "       -2.36485789e-07, -2.44070564e-07, -2.36246425e-07, -3.96053579e-01,\n",
      "        1.35513891e-01, -2.31941109e-07, -2.51558510e-07,  8.26647723e-02,\n",
      "       -2.78499473e-07, -2.35972927e-07, -1.16642382e+00, -2.33645569e-07,\n",
      "       -2.43002197e-07, -2.59982167e-07, -2.31312709e-07, -2.41131875e-07,\n",
      "       -2.70419987e-07, -2.32380703e-07, -2.49640370e-07, -2.32800426e-07,\n",
      "       -3.60334854e+00, -6.86730330e-02, -2.33999692e-07, -2.31808915e-07,\n",
      "       -2.46855530e-07, -2.47570062e-07, -2.56958065e-07, -2.32698458e-07,\n",
      "       -2.32679043e-07, -2.35585348e-07, -2.35717117e-07, -2.31570496e-07,\n",
      "       -2.33945179e-07, -2.32584915e-07, -2.34190817e-07, -2.30927322e-07,\n",
      "       -2.42845902e-07, -2.32316352e-07, -2.30648100e-07, -2.32760126e-07,\n",
      "       -2.32539730e-07, -2.31450847e-07, -2.34281230e-07, -2.59543062e-07,\n",
      "       -2.30562830e-07, -2.32640788e-07, -2.36900323e-07, -2.31269494e-07,\n",
      "       -2.36745430e-07, -2.46974601e-07, -2.32900174e-07, -2.32957132e-07,\n",
      "       -2.48103919e-07, -2.52343199e-07, -2.30682113e-07, -2.35284379e-07,\n",
      "       -2.32758385e-07, -2.33033910e-07, -2.86592382e-07, -2.35836724e-07,\n",
      "       -2.33029203e-07,  7.37491796e-01, -2.33091104e-07, -2.32880981e-07,\n",
      "       -2.64183894e-07, -2.30704096e-07, -2.32137756e-07, -2.44228758e-07,\n",
      "       -2.46030890e-07, -2.35864886e-07, -2.32181508e-07, -2.43832618e-07,\n",
      "       -2.33540218e-07, -1.16415739e+00, -2.32606698e-07,  8.74862056e-01,\n",
      "       -2.50655984e-07, -2.32515350e-07, -2.33849222e-07, -2.31058246e-07,\n",
      "       -2.43407557e-07, -2.49825810e-07, -2.31965927e-07, -2.43251487e-07,\n",
      "       -2.33360402e-07, -2.62960124e-07, -2.42871399e-07, -2.45482282e-07,\n",
      "       -2.43712631e-07, -2.31856255e-07, -2.53129992e-07, -2.33713883e-07,\n",
      "       -2.33973954e-07, -2.31990301e-07, -2.49587351e-07, -2.30400096e-07,\n",
      "       -2.34855177e-07, -2.70335630e-07,  2.90282982e-01, -2.30981863e-07,\n",
      "       -2.33913346e-07, -2.32171440e-07, -2.56392569e-07, -2.31185497e-07,\n",
      "       -2.63196409e-07, -8.26328970e-07, -7.50254162e-02, -2.86671217e-07,\n",
      "       -2.32908492e-07, -2.47997961e-07, -2.91588193e-07,  2.05877911e-01,\n",
      "       -2.42135056e-07, -2.55064141e-07, -2.34615481e-07, -2.32383281e-07,\n",
      "       -2.42175219e-07, -2.32708896e-07, -2.81334356e-07, -2.31308882e-07,\n",
      "       -2.87706848e-07, -2.49100685e-07, -2.31550731e-07, -2.32964141e-07,\n",
      "       -2.47581968e-07, -2.32061496e-07, -2.32095386e-07, -2.48128950e-07,\n",
      "       -2.61001282e-07, -2.33280871e-07, -2.32200443e-07, -2.28428417e-01,\n",
      "       -2.32064197e-07, -2.35706582e-07, -2.39014151e-07, -2.34011525e-07,\n",
      "       -2.57518290e-07, -2.34684798e-07, -2.42555901e-07, -2.46707218e-07,\n",
      "       -2.65296807e-07, -2.44932320e-07,  5.33159533e-02, -2.30668432e-07])\n",
      "array([-5.57876495e-07, -6.50584201e-07, -5.51177646e-07, -5.84198382e-07,\n",
      "       -5.56710673e-07, -5.55129945e-07, -5.55624097e-07, -5.99791405e-07,\n",
      "       -6.44482454e-07, -5.85414121e-07, -5.55061153e-07, -5.51792134e-07,\n",
      "       -5.63782849e-07, -6.66547945e-07, -5.87122370e-07, -5.93799942e-07,\n",
      "       -5.54285623e-07, -5.58987511e-07, -5.90290368e-07, -5.51912963e-07,\n",
      "       -5.55825817e-07, -5.61762267e-07, -5.55799831e-07, -5.89345112e-07,\n",
      "       -5.53730221e-07, -5.61125619e-07, -5.50674816e-07, -5.53102161e-07,\n",
      "       -6.08555336e-07, -5.50650888e-07, -5.49869103e-07, -6.34743326e-07,\n",
      "       -5.89303272e-07, -5.59836391e-07, -5.95631852e-07, -5.66907218e-07,\n",
      "       -5.74252649e-07, -5.85894066e-07, -6.12750123e-07, -5.57254487e-07,\n",
      "       -5.62890202e-07, -5.88837989e-07, -5.90279715e-07, -6.33871487e-07,\n",
      "       -5.59329799e-07, -6.31822760e-07, -5.53477847e-07, -5.54244309e-07,\n",
      "       -5.92090956e-07, -5.52498620e-07, -1.04051085e-06, -5.52762813e-07,\n",
      "       -5.79660350e-07, -5.56140647e-07, -5.55694584e-07, -7.95987400e-01,\n",
      "       -5.65622640e-07, -5.85378154e-07, -5.64999695e-07, -1.41566264e+00,\n",
      "        2.03926844e-01, -5.53800629e-07, -6.04910844e-07,  1.18358183e-01,\n",
      "       -6.75402304e-07, -5.64287956e-07,  2.12888142e+00, -5.58233041e-07,\n",
      "       -5.82593600e-07, -6.26917003e-07, -5.52166912e-07, -5.77720302e-07,\n",
      "       -6.54229483e-07, -5.54943626e-07, -5.99904602e-07, -5.56035056e-07,\n",
      "        3.77326368e+00,  1.00683046e-01, -5.59154138e-07, -5.53456931e-07,\n",
      "       -5.92639573e-07, -5.94503256e-07, -6.19012939e-07, -5.55769894e-07,\n",
      "       -5.55719406e-07, -5.63279407e-07, -5.63622286e-07, -5.52837080e-07,\n",
      "       -5.59012342e-07, -5.55474637e-07, -5.59651297e-07, -5.51165094e-07,\n",
      "       -5.82186288e-07, -5.54776297e-07, -5.50439308e-07, -5.55930257e-07,\n",
      "       -5.55357142e-07, -5.52526024e-07, -5.59886489e-07, -6.25769056e-07,\n",
      "       -5.50217672e-07, -5.55619927e-07, -5.66701540e-07, -5.52054571e-07,\n",
      "       -5.66298392e-07, -5.92950123e-07, -5.56294451e-07, -5.56442575e-07,\n",
      "       -5.95895862e-07, -6.06959361e-07, -5.50527716e-07, -5.62496293e-07,\n",
      "       -5.55925729e-07, -5.56642243e-07, -6.96635800e-07, -5.63933522e-07,\n",
      "       -5.56630002e-07,  9.91746279e-02, -5.56790984e-07, -5.56244541e-07,\n",
      "       -6.37905884e-07, -5.50584856e-07, -5.54311921e-07, -5.85790517e-07,\n",
      "       -5.90489023e-07, -5.64006806e-07, -5.54425681e-07, -5.84757929e-07,\n",
      "       -5.57959029e-07, -3.00129204e+00, -5.55531281e-07, -1.70906974e+00,\n",
      "       -6.02555074e-07, -5.55293745e-07, -5.58762749e-07, -5.51505422e-07,\n",
      "       -5.83650045e-07, -6.00388511e-07, -5.53865157e-07, -5.83243287e-07,\n",
      "       -5.57491356e-07, -6.34704516e-07, -5.82252734e-07, -5.89058519e-07,\n",
      "       -5.84445183e-07, -5.53580013e-07, -6.09013669e-07, -5.58410726e-07,\n",
      "       -5.59087192e-07, -5.53928530e-07, -5.99766251e-07, -5.49794705e-07,\n",
      "       -5.61379609e-07, -6.54008558e-07,  2.06446585e+00, -5.51306868e-07,\n",
      "       -5.58929541e-07, -5.54399502e-07, -6.17535376e-07, -5.51836214e-07,\n",
      "       -6.35322584e-07, -2.13286329e-06,  5.14775136e-01, -6.96842759e-07,\n",
      "       -5.56316083e-07, -5.95619451e-07, -7.09755413e-07, -8.77494452e-02,\n",
      "       -5.80333952e-07, -6.14064972e-07, -5.60756019e-07, -5.54950328e-07,\n",
      "       -5.80438602e-07, -5.55797037e-07, -6.82837413e-07, -5.52156962e-07,\n",
      "       -6.99561748e-07, -5.98496380e-07, -5.52785696e-07, -5.56460803e-07,\n",
      "       -5.94534313e-07, -5.54113638e-07, -5.54201756e-07, -5.95961159e-07,\n",
      "       -6.29581592e-07, -5.57284512e-07, -5.54474914e-07, -1.34251371e-01,\n",
      "       -5.54120661e-07, -5.63594870e-07, -5.72204631e-07, -5.59184919e-07,\n",
      "       -6.20476875e-07, -5.60936350e-07, -5.81430567e-07, -5.92252769e-07,\n",
      "       -6.40817819e-07, -5.87624639e-07, -4.30837493e-01, -5.50492156e-07])\n"
     ]
    }
   ],
   "source": [
    "coef = np.array(model.coefs_)\n",
    "print(coef[0].shape)\n",
    "# print(repr(coef[1].reshape(200)))\n",
    "# print(model.coefs_)\n",
    "for i in range(4):\n",
    "    print(repr(coef[0][i]))\n"
   ]
  },
  {
   "cell_type": "code",
   "execution_count": 22,
   "metadata": {},
   "outputs": [
    {
     "data": {
      "text/plain": [
       "LinearRegression(copy_X=True, fit_intercept=True, n_jobs=None, normalize=False)"
      ]
     },
     "execution_count": 22,
     "metadata": {},
     "output_type": "execute_result"
    }
   ],
   "source": [
    "model2 = LinearRegression()\n",
    "model2.fit(X_train,Y_train)"
   ]
  },
  {
   "cell_type": "code",
   "execution_count": 23,
   "metadata": {},
   "outputs": [
    {
     "name": "stdout",
     "output_type": "stream",
     "text": [
      "Test r-score:  0.06023473200249996\n",
      "Test mean:  0.015408808276924583\n",
      "[0.04166667 0.66666667 0.         ... 0.         0.04166667 0.        ]\n",
      "[0.02532303 0.10311094 0.02071808 ... 0.03819089 0.08340865 0.03139643]\n"
     ]
    }
   ],
   "source": [
    "model2.get_params()\n",
    "evaluate_model(model2,X_test,Y_test)"
   ]
  },
  {
   "cell_type": "code",
   "execution_count": 24,
   "metadata": {},
   "outputs": [],
   "source": [
    "save_model(model2,'LinearRegress')"
   ]
  },
  {
   "cell_type": "code",
   "execution_count": 25,
   "metadata": {},
   "outputs": [
    {
     "name": "stderr",
     "output_type": "stream",
     "text": [
      "/home/user/yes/envs/DL/lib/python3.7/site-packages/sklearn/linear_model/_stochastic_gradient.py:1187: ConvergenceWarning: Maximum number of iteration reached before convergence. Consider increasing max_iter to improve the fit.\n",
      "  ConvergenceWarning)\n"
     ]
    },
    {
     "data": {
      "text/plain": [
       "SGDRegressor(alpha=0.0001, average=False, early_stopping=False, epsilon=0.1,\n",
       "             eta0=0.01, fit_intercept=True, l1_ratio=0.15,\n",
       "             learning_rate='invscaling', loss='squared_loss', max_iter=1000,\n",
       "             n_iter_no_change=5, penalty='l2', power_t=0.25, random_state=None,\n",
       "             shuffle=True, tol=0.001, validation_fraction=0.1, verbose=0,\n",
       "             warm_start=False)"
      ]
     },
     "execution_count": 25,
     "metadata": {},
     "output_type": "execute_result"
    }
   ],
   "source": [
    "from sklearn.linear_model import SGDRegressor\n",
    "model3 = SGDRegressor()\n",
    "model3.get_params()\n",
    "model3.fit(X_train,Y_train)"
   ]
  },
  {
   "cell_type": "code",
   "execution_count": 28,
   "metadata": {},
   "outputs": [
    {
     "name": "stdout",
     "output_type": "stream",
     "text": [
      "Test r-score:  -8.529258514515285e+27\n",
      "Test mean:  1.3984950675453374e+26\n",
      "[0.04166667 0.66666667 0.         ... 0.         0.04166667 0.        ]\n",
      "[1.18875173e+13 1.15847474e+13 8.37756116e+12 ... 1.25764607e+13\n",
      " 1.28175846e+13 1.47588084e+13]\n"
     ]
    }
   ],
   "source": [
    "save_model(model3,'SGDRegressor')\n",
    "evaluate_model(model3,X_test,Y_test)"
   ]
  },
  {
   "cell_type": "code",
   "execution_count": 27,
   "metadata": {},
   "outputs": [],
   "source": [
    "for i in range(200):\n",
    "    model3.partial_fit(X_train,Y_train)\n",
    "    save_model(model3,'SGDRegressor')"
   ]
  }
 ],
 "metadata": {
  "interpreter": {
   "hash": "5ef1a8950ce0fa2c598227f08e612ec9b24c4b828383aadb3ebd7f2669e1e894"
  },
  "kernelspec": {
   "display_name": "Python 3.7.7 ('DL')",
   "language": "python",
   "name": "python3"
  },
  "language_info": {
   "codemirror_mode": {
    "name": "ipython",
    "version": 3
   },
   "file_extension": ".py",
   "mimetype": "text/x-python",
   "name": "python",
   "nbconvert_exporter": "python",
   "pygments_lexer": "ipython3",
   "version": "3.7.7"
  },
  "orig_nbformat": 4
 },
 "nbformat": 4,
 "nbformat_minor": 2
}
